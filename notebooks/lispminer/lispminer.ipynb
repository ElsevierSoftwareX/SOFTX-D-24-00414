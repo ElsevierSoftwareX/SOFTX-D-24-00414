{
 "cells": [
  {
   "cell_type": "markdown",
   "id": "848c93a4-8b62-4d27-9129-61817c144677",
   "metadata": {},
   "source": [
    "# Performance Comparison with Lispminer"
   ]
  },
  {
   "cell_type": "markdown",
   "id": "8711548e-6625-4d93-951a-51d9805da117",
   "metadata": {},
   "source": [
    "## LispMiner Setting:\n",
    "Different values for support (BASE) and confidence (PIM) were tried."
   ]
  },
  {
   "cell_type": "markdown",
   "id": "1e0477a7-351b-4c11-bca8-545e7bc35cf0",
   "metadata": {},
   "source": [
    "![lispminerresults](./lisp-setting.png)"
   ]
  },
  {
   "cell_type": "markdown",
   "id": "e98a7f4e-8059-4a96-ab3d-611cbd108db6",
   "metadata": {},
   "source": [
    "## LispMiner Results"
   ]
  },
  {
   "cell_type": "markdown",
   "id": "352a0db9-d63e-4ddd-89fa-02afc9db969a",
   "metadata": {},
   "source": [
    "![lispminerresults](./lispminer.png)"
   ]
  },
  {
   "cell_type": "markdown",
   "id": "8c950540-e343-43e8-a034-7239a8756798",
   "metadata": {},
   "source": [
    "## Package action-rules results\n",
    "LispMiner generates the action rules in both ways for the target (Yes -> No, No -> Yes). To get the same behaviour in action-rules package, the mining is run twice."
   ]
  },
  {
   "cell_type": "code",
   "execution_count": 1,
   "id": "f9c1c9f8-5ffa-4478-bc7d-2e4b30f640e4",
   "metadata": {},
   "outputs": [],
   "source": [
    "import pandas as pd\n",
    "from action_rules import ActionRules\n",
    "\n",
    "stable_attributes = [\"gender\", \"SeniorCitizen\", \"Partner\"]\n",
    "flexible_attributes = [\"PhoneService\",\n",
    "                       \"InternetService\",\n",
    "                       \"OnlineSecurity\",\n",
    "                       \"DeviceProtection\",\n",
    "                       \"TechSupport\",\n",
    "                       \"StreamingTV\"]\n",
    "target = 'Churn'\n",
    "min_stable_attributes = 3\n",
    "min_flexible_attributes = 2 \n",
    "undesired_state = 'Yes'\n",
    "desired_state = 'No'\n",
    "\n",
    "pd.set_option('display.max_columns', None)\n",
    "data_frame = pd.read_csv(\"./../data/telco.csv\", sep=\";\")\n",
    "\n",
    "def mining(support, confidence):\n",
    "    action_rules = ActionRules(\n",
    "        min_stable_attributes=min_stable_attributes,\n",
    "        min_flexible_attributes=min_flexible_attributes,\n",
    "        min_undesired_support=support,\n",
    "        min_undesired_confidence=confidence,\n",
    "        min_desired_support=support,\n",
    "        min_desired_confidence=confidence,\n",
    "        verbose=False\n",
    "    )\n",
    "    action_rules.fit(\n",
    "        data=data_frame,\n",
    "        stable_attributes=stable_attributes,\n",
    "        flexible_attributes=flexible_attributes,\n",
    "        target=target,\n",
    "        target_undesired_state=undesired_state,\n",
    "        target_desired_state=desired_state,\n",
    "        use_gpu=False,\n",
    "        use_sparse_matrix=False,\n",
    "    )\n",
    "    action_rules = ActionRules(\n",
    "        min_stable_attributes=min_stable_attributes,\n",
    "        min_flexible_attributes=min_flexible_attributes,\n",
    "        min_undesired_support=support,\n",
    "        min_undesired_confidence=confidence,\n",
    "        min_desired_support=support,\n",
    "        min_desired_confidence=confidence,\n",
    "        verbose=False\n",
    "    )\n",
    "    action_rules.fit(\n",
    "        data=data_frame,\n",
    "        stable_attributes=stable_attributes,\n",
    "        flexible_attributes=flexible_attributes,\n",
    "        target=target,\n",
    "        target_undesired_state=desired_state,\n",
    "        target_desired_state=undesired_state,\n",
    "        use_gpu=False,\n",
    "        use_sparse_matrix=False,\n",
    "    )"
   ]
  },
  {
   "cell_type": "code",
   "execution_count": 2,
   "id": "970043b6-8153-48f0-87d1-95083db35af3",
   "metadata": {},
   "outputs": [
    {
     "data": {
      "text/plain": [
       "70.43"
      ]
     },
     "execution_count": 2,
     "metadata": {},
     "output_type": "execute_result"
    }
   ],
   "source": [
    "len(data_frame)/100"
   ]
  },
  {
   "cell_type": "code",
   "execution_count": 3,
   "id": "b026c1ea-540a-4b41-933f-eead24befff4",
   "metadata": {},
   "outputs": [
    {
     "name": "stdout",
     "output_type": "stream",
     "text": [
      "342 ms ± 7.53 ms per loop (mean ± std. dev. of 7 runs, 1 loop each)\n"
     ]
    }
   ],
   "source": [
    "%timeit mining(70, 0.5)"
   ]
  },
  {
   "cell_type": "code",
   "execution_count": 4,
   "id": "85aa6bf6-603d-488c-8a43-88066a510854",
   "metadata": {},
   "outputs": [
    {
     "name": "stdout",
     "output_type": "stream",
     "text": [
      "333 ms ± 837 μs per loop (mean ± std. dev. of 7 runs, 1 loop each)\n"
     ]
    }
   ],
   "source": [
    "%timeit mining(70, 0.6)"
   ]
  },
  {
   "cell_type": "code",
   "execution_count": 5,
   "id": "7f88a211-441f-4bf3-b497-4bed2e0bf8b3",
   "metadata": {},
   "outputs": [
    {
     "name": "stdout",
     "output_type": "stream",
     "text": [
      "333 ms ± 739 μs per loop (mean ± std. dev. of 7 runs, 1 loop each)\n"
     ]
    }
   ],
   "source": [
    "%timeit mining(70, 0.7)"
   ]
  },
  {
   "cell_type": "code",
   "execution_count": 6,
   "id": "ec3aadff-062a-4690-b5b9-fa398e439c24",
   "metadata": {},
   "outputs": [
    {
     "name": "stdout",
     "output_type": "stream",
     "text": [
      "348 ms ± 13.9 ms per loop (mean ± std. dev. of 7 runs, 1 loop each)\n"
     ]
    }
   ],
   "source": [
    "%timeit mining(70, 0.8)"
   ]
  },
  {
   "cell_type": "code",
   "execution_count": 7,
   "id": "5cf1c4c7-2501-4703-b6dd-27ead8140a3e",
   "metadata": {},
   "outputs": [
    {
     "data": {
      "text/plain": [
       "140.86"
      ]
     },
     "execution_count": 7,
     "metadata": {},
     "output_type": "execute_result"
    }
   ],
   "source": [
    "len(data_frame)/100 * 2"
   ]
  },
  {
   "cell_type": "code",
   "execution_count": 8,
   "id": "1e5c2b33-595e-4be5-a74c-d73448b9d8ff",
   "metadata": {},
   "outputs": [
    {
     "name": "stdout",
     "output_type": "stream",
     "text": [
      "166 ms ± 6.27 ms per loop (mean ± std. dev. of 7 runs, 10 loops each)\n"
     ]
    }
   ],
   "source": [
    "%timeit mining(140, 0.5)"
   ]
  },
  {
   "cell_type": "code",
   "execution_count": 9,
   "id": "167281a0-8f49-4325-b32b-ada4299408a2",
   "metadata": {},
   "outputs": [
    {
     "name": "stdout",
     "output_type": "stream",
     "text": [
      "171 ms ± 4.59 ms per loop (mean ± std. dev. of 7 runs, 10 loops each)\n"
     ]
    }
   ],
   "source": [
    "%timeit mining(140, 0.6)"
   ]
  },
  {
   "cell_type": "code",
   "execution_count": 10,
   "id": "e43a260d-3bd5-4fd4-9572-b598db2e8808",
   "metadata": {},
   "outputs": [
    {
     "name": "stdout",
     "output_type": "stream",
     "text": [
      "169 ms ± 889 μs per loop (mean ± std. dev. of 7 runs, 10 loops each)\n"
     ]
    }
   ],
   "source": [
    "%timeit mining(140, 0.7)"
   ]
  },
  {
   "cell_type": "code",
   "execution_count": 11,
   "id": "2f8f0a42-abe2-4b71-ad4c-222ba66df864",
   "metadata": {},
   "outputs": [
    {
     "name": "stdout",
     "output_type": "stream",
     "text": [
      "176 ms ± 2.44 ms per loop (mean ± std. dev. of 7 runs, 10 loops each)\n"
     ]
    }
   ],
   "source": [
    "%timeit mining(140, 0.8)"
   ]
  },
  {
   "cell_type": "code",
   "execution_count": 12,
   "id": "730eeb74-0e7e-465e-8d09-a12267cb02a1",
   "metadata": {},
   "outputs": [
    {
     "data": {
      "text/plain": [
       "211.29000000000002"
      ]
     },
     "execution_count": 12,
     "metadata": {},
     "output_type": "execute_result"
    }
   ],
   "source": [
    "len(data_frame)/100 * 3"
   ]
  },
  {
   "cell_type": "code",
   "execution_count": 13,
   "id": "cf3c5106-79bc-44f9-bfc4-0d0e8172629b",
   "metadata": {},
   "outputs": [
    {
     "name": "stdout",
     "output_type": "stream",
     "text": [
      "88.7 ms ± 46.6 μs per loop (mean ± std. dev. of 7 runs, 10 loops each)\n"
     ]
    }
   ],
   "source": [
    "%timeit mining(211, 0.5)"
   ]
  },
  {
   "cell_type": "code",
   "execution_count": 14,
   "id": "3f523d78-eaa4-4dca-ab75-d83712b5f351",
   "metadata": {},
   "outputs": [
    {
     "name": "stdout",
     "output_type": "stream",
     "text": [
      "88.5 ms ± 59.4 μs per loop (mean ± std. dev. of 7 runs, 10 loops each)\n"
     ]
    }
   ],
   "source": [
    "%timeit mining(211, 0.6)"
   ]
  },
  {
   "cell_type": "code",
   "execution_count": 15,
   "id": "5fb38ed6-e952-40ca-a717-fd3e6f619c49",
   "metadata": {},
   "outputs": [
    {
     "name": "stdout",
     "output_type": "stream",
     "text": [
      "88.6 ms ± 79.4 μs per loop (mean ± std. dev. of 7 runs, 10 loops each)\n"
     ]
    }
   ],
   "source": [
    "%timeit mining(211, 0.7)"
   ]
  },
  {
   "cell_type": "code",
   "execution_count": 16,
   "id": "737b59ad-0ad7-4235-8041-1de99b9aab14",
   "metadata": {},
   "outputs": [
    {
     "name": "stdout",
     "output_type": "stream",
     "text": [
      "88.6 ms ± 62.4 μs per loop (mean ± std. dev. of 7 runs, 10 loops each)\n"
     ]
    }
   ],
   "source": [
    "%timeit mining(211, 0.8)"
   ]
  },
  {
   "cell_type": "code",
   "execution_count": 17,
   "id": "48fb9ae3-fdad-4a13-a510-2eeb32dcd1aa",
   "metadata": {},
   "outputs": [
    {
     "data": {
      "text/plain": [
       "281.72"
      ]
     },
     "execution_count": 17,
     "metadata": {},
     "output_type": "execute_result"
    }
   ],
   "source": [
    "len(data_frame)/100 * 4"
   ]
  },
  {
   "cell_type": "code",
   "execution_count": 18,
   "id": "05d13eb0-bea5-4494-a333-ff06d61f3976",
   "metadata": {},
   "outputs": [
    {
     "name": "stdout",
     "output_type": "stream",
     "text": [
      "59 ms ± 47.8 μs per loop (mean ± std. dev. of 7 runs, 10 loops each)\n"
     ]
    }
   ],
   "source": [
    "%timeit mining(281, 0.5)"
   ]
  },
  {
   "cell_type": "code",
   "execution_count": 19,
   "id": "62912bce-0d89-4b8d-be7f-5560e05db90b",
   "metadata": {},
   "outputs": [
    {
     "name": "stdout",
     "output_type": "stream",
     "text": [
      "58.9 ms ± 27.9 μs per loop (mean ± std. dev. of 7 runs, 10 loops each)\n"
     ]
    }
   ],
   "source": [
    "%timeit mining(281, 0.6)"
   ]
  },
  {
   "cell_type": "code",
   "execution_count": 20,
   "id": "8365a406-f21f-4728-9283-39a38991260f",
   "metadata": {},
   "outputs": [
    {
     "name": "stdout",
     "output_type": "stream",
     "text": [
      "58.9 ms ± 33 μs per loop (mean ± std. dev. of 7 runs, 10 loops each)\n"
     ]
    }
   ],
   "source": [
    "%timeit mining(281, 0.7)"
   ]
  },
  {
   "cell_type": "code",
   "execution_count": 21,
   "id": "3a77e992-5ae7-457b-b229-225ab4cbd460",
   "metadata": {},
   "outputs": [
    {
     "name": "stdout",
     "output_type": "stream",
     "text": [
      "58.9 ms ± 51.5 μs per loop (mean ± std. dev. of 7 runs, 10 loops each)\n"
     ]
    }
   ],
   "source": [
    "%timeit mining(281, 0.8)"
   ]
  },
  {
   "cell_type": "code",
   "execution_count": null,
   "id": "e78adfa9-c1c3-4105-84d9-fb704ca4ccbb",
   "metadata": {},
   "outputs": [],
   "source": []
  }
 ],
 "metadata": {
  "kernelspec": {
   "display_name": "Python 3 (ipykernel)",
   "language": "python",
   "name": "python3"
  },
  "language_info": {
   "codemirror_mode": {
    "name": "ipython",
    "version": 3
   },
   "file_extension": ".py",
   "mimetype": "text/x-python",
   "name": "python",
   "nbconvert_exporter": "python",
   "pygments_lexer": "ipython3",
   "version": "3.10.10"
  }
 },
 "nbformat": 4,
 "nbformat_minor": 5
}
