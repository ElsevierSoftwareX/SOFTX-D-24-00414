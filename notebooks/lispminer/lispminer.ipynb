{
 "cells": [
  {
   "cell_type": "markdown",
   "id": "848c93a4-8b62-4d27-9129-61817c144677",
   "metadata": {},
   "source": [
    "# Performance Comparison with Lispminer"
   ]
  },
  {
   "cell_type": "markdown",
   "id": "8711548e-6625-4d93-951a-51d9805da117",
   "metadata": {},
   "source": [
    "## LispMiner Setting:\n",
    "Different values for support (BASE) and confidence (PIM) were tried.\n",
    "\n",
    "![lispminerresults](./lisp.png)"
   ]
  },
  {
   "cell_type": "markdown",
   "id": "8c950540-e343-43e8-a034-7239a8756798",
   "metadata": {},
   "source": [
    "## Package action-rules Setting\n",
    "LispMiner generates the action rules in both ways for the target (Yes -> No, No -> Yes). To get the same behaviour in action-rules package, the mining is run twice. And post filtering is needed because of flexible attributes in LISp-Miner are strictly flexible."
   ]
  },
  {
   "cell_type": "code",
   "execution_count": 1,
   "id": "f9c1c9f8-5ffa-4478-bc7d-2e4b30f640e4",
   "metadata": {},
   "outputs": [],
   "source": [
    "import pandas as pd\n",
    "from action_rules import ActionRules\n",
    "\n",
    "stable_attributes = [\"gender\", \"SeniorCitizen\", \"Partner\"]\n",
    "flexible_attributes = [\"PhoneService\",\n",
    "                       \"InternetService\",\n",
    "                       \"OnlineSecurity\",\n",
    "                       \"DeviceProtection\",\n",
    "                       \"TechSupport\",\n",
    "                       \"StreamingTV\"]\n",
    "target = 'Churn'\n",
    "min_stable_attributes = 3\n",
    "min_flexible_attributes = 2 \n",
    "undesired_state = 'Yes'\n",
    "desired_state = 'No'\n",
    "\n",
    "pd.set_option('display.max_columns', None)\n",
    "data_frame = pd.read_csv(\"./../data/telco.csv\", sep=\";\")\n",
    "\n",
    "def mining(support, confidence):\n",
    "    rules = []\n",
    "    # first run Yes -> No\n",
    "    action_rules = ActionRules(\n",
    "        min_stable_attributes=min_stable_attributes,\n",
    "        min_flexible_attributes=min_flexible_attributes,\n",
    "        min_undesired_support=support,\n",
    "        min_undesired_confidence=confidence,\n",
    "        min_desired_support=support,\n",
    "        min_desired_confidence=confidence,\n",
    "        verbose=False\n",
    "    )\n",
    "    action_rules.fit(\n",
    "        data=data_frame,\n",
    "        stable_attributes=stable_attributes,\n",
    "        flexible_attributes=flexible_attributes,\n",
    "        target=target,\n",
    "        target_undesired_state=undesired_state,\n",
    "        target_desired_state=desired_state,\n",
    "        use_gpu=False,\n",
    "        use_sparse_matrix=False,\n",
    "    )\n",
    "    rules = action_rules.get_rules().get_ar_notation()\n",
    "    # second run No -> Yes\n",
    "    action_rules = ActionRules(\n",
    "        min_stable_attributes=min_stable_attributes,\n",
    "        min_flexible_attributes=min_flexible_attributes,\n",
    "        min_undesired_support=support,\n",
    "        min_undesired_confidence=confidence,\n",
    "        min_desired_support=support,\n",
    "        min_desired_confidence=confidence,\n",
    "        verbose=False\n",
    "    )\n",
    "    action_rules.fit(\n",
    "        data=data_frame,\n",
    "        stable_attributes=stable_attributes,\n",
    "        flexible_attributes=flexible_attributes,\n",
    "        target=target,\n",
    "        target_undesired_state=desired_state,\n",
    "        target_desired_state=undesired_state,\n",
    "        use_gpu=False,\n",
    "        use_sparse_matrix=False,\n",
    "    )\n",
    "    rules += action_rules.get_rules().get_ar_notation()\n",
    "    rul = []\n",
    "    for r in rules:\n",
    "        if '*' not in r: # just strictly flexible\n",
    "            rul.append(r)\n",
    "    return rul"
   ]
  },
  {
   "cell_type": "markdown",
   "id": "50dcda57-d457-4763-96cf-13717aae261a",
   "metadata": {},
   "source": [
    "# Results"
   ]
  },
  {
   "cell_type": "markdown",
   "id": "1703a866-03fa-4cd5-8941-da4436bfd50f",
   "metadata": {},
   "source": [
    "### Support 70, confidence 50%"
   ]
  },
  {
   "cell_type": "markdown",
   "id": "2d779aab-0518-4ff8-bcd2-50a99f428f58",
   "metadata": {},
   "source": [
    "LISp-Miner\n",
    "\n",
    "![lispminerresults](./1.png)"
   ]
  },
  {
   "cell_type": "markdown",
   "id": "7dbbef00-e140-4c28-81c0-f259857ee7d7",
   "metadata": {},
   "source": [
    "action-rules"
   ]
  },
  {
   "cell_type": "code",
   "execution_count": 2,
   "id": "b026c1ea-540a-4b41-933f-eead24befff4",
   "metadata": {},
   "outputs": [
    {
     "name": "stdout",
     "output_type": "stream",
     "text": [
      "372 ms ± 18.3 ms per loop (mean ± std. dev. of 7 runs, 1 loop each)\n"
     ]
    }
   ],
   "source": [
    "%timeit mining(70, 0.5)"
   ]
  },
  {
   "cell_type": "code",
   "execution_count": 3,
   "id": "7213ca5e-884d-44b7-b9cf-4e6997907b55",
   "metadata": {},
   "outputs": [
    {
     "data": {
      "text/plain": [
       "178"
      ]
     },
     "execution_count": 3,
     "metadata": {},
     "output_type": "execute_result"
    }
   ],
   "source": [
    "len(mining(70, 0.5))"
   ]
  },
  {
   "cell_type": "markdown",
   "id": "71410b2b-31f3-4a60-b5f2-e30c4e53d97c",
   "metadata": {},
   "source": [
    "### Support 70, confidence 60%"
   ]
  },
  {
   "cell_type": "markdown",
   "id": "94e409de-0a72-4626-b547-c297585a2fc8",
   "metadata": {},
   "source": [
    "LISp-Miner\n",
    "\n",
    "![lispminerresults](./2.png)"
   ]
  },
  {
   "cell_type": "markdown",
   "id": "13074ba7-06b9-4c74-8576-fbb1d96778b0",
   "metadata": {},
   "source": [
    "action-rules"
   ]
  },
  {
   "cell_type": "code",
   "execution_count": 4,
   "id": "85aa6bf6-603d-488c-8a43-88066a510854",
   "metadata": {},
   "outputs": [
    {
     "name": "stdout",
     "output_type": "stream",
     "text": [
      "341 ms ± 1.66 ms per loop (mean ± std. dev. of 7 runs, 1 loop each)\n"
     ]
    }
   ],
   "source": [
    "%timeit mining(70, 0.6)"
   ]
  },
  {
   "cell_type": "code",
   "execution_count": 5,
   "id": "f361f3fb-d266-4f54-92c5-5512dd5fc9c9",
   "metadata": {},
   "outputs": [
    {
     "data": {
      "text/plain": [
       "32"
      ]
     },
     "execution_count": 5,
     "metadata": {},
     "output_type": "execute_result"
    }
   ],
   "source": [
    "len(mining(70, 0.6))"
   ]
  },
  {
   "cell_type": "markdown",
   "id": "838bb54d-32d4-48ef-b33f-1305742d63ad",
   "metadata": {},
   "source": [
    "### Support 140, confidence 50%"
   ]
  },
  {
   "cell_type": "markdown",
   "id": "9a55a9f8-fb9e-469d-866b-ab3e36d42d73",
   "metadata": {},
   "source": [
    "LISp-Miner\n",
    "\n",
    "![lispminerresults](./3.png)"
   ]
  },
  {
   "cell_type": "markdown",
   "id": "cb7a9e22-512e-4a00-9c7c-c329de698927",
   "metadata": {},
   "source": [
    "action-rules"
   ]
  },
  {
   "cell_type": "code",
   "execution_count": 6,
   "id": "7f88a211-441f-4bf3-b497-4bed2e0bf8b3",
   "metadata": {},
   "outputs": [
    {
     "name": "stdout",
     "output_type": "stream",
     "text": [
      "208 ms ± 5.21 ms per loop (mean ± std. dev. of 7 runs, 1 loop each)\n"
     ]
    }
   ],
   "source": [
    "%timeit mining(140, 0.5)"
   ]
  },
  {
   "cell_type": "code",
   "execution_count": 7,
   "id": "59d5fe15-0be7-4c7e-bd88-15fd95361617",
   "metadata": {},
   "outputs": [
    {
     "data": {
      "text/plain": [
       "70"
      ]
     },
     "execution_count": 7,
     "metadata": {},
     "output_type": "execute_result"
    }
   ],
   "source": [
    "len(mining(140, 0.5))"
   ]
  },
  {
   "cell_type": "markdown",
   "id": "abf8a89b-33b1-472b-929d-bc10417b08c4",
   "metadata": {},
   "source": [
    "### Support 140, confidence 60%"
   ]
  },
  {
   "cell_type": "markdown",
   "id": "74e68b7f-a1c2-47d8-8729-ecdb491f5a80",
   "metadata": {},
   "source": [
    "LISp-Miner\n",
    "\n",
    "![lispminerresults](./4.png)"
   ]
  },
  {
   "cell_type": "markdown",
   "id": "5453d3d3-71d4-40bb-b229-7014a019a3e7",
   "metadata": {},
   "source": [
    "action-rules"
   ]
  },
  {
   "cell_type": "code",
   "execution_count": 8,
   "id": "ec3aadff-062a-4690-b5b9-fa398e439c24",
   "metadata": {},
   "outputs": [
    {
     "name": "stdout",
     "output_type": "stream",
     "text": [
      "187 ms ± 225 μs per loop (mean ± std. dev. of 7 runs, 10 loops each)\n"
     ]
    }
   ],
   "source": [
    "%timeit mining(140, 0.6)"
   ]
  },
  {
   "cell_type": "code",
   "execution_count": 9,
   "id": "be471b82-b526-4837-be4f-dfb4e72576b2",
   "metadata": {},
   "outputs": [
    {
     "data": {
      "text/plain": [
       "8"
      ]
     },
     "execution_count": 9,
     "metadata": {},
     "output_type": "execute_result"
    }
   ],
   "source": [
    "len(mining(140, 0.6))"
   ]
  },
  {
   "cell_type": "markdown",
   "id": "9f18e0d7-ddd0-4492-9b88-51f0c211810b",
   "metadata": {},
   "source": [
    "## Compare rules"
   ]
  },
  {
   "cell_type": "markdown",
   "id": "a1564c54-d935-471f-8a6a-1925c8b8029f",
   "metadata": {},
   "source": [
    "LISp-Miner"
   ]
  },
  {
   "cell_type": "raw",
   "id": "45c4ea57-7891-4086-96c7-fb7388dea6ff",
   "metadata": {},
   "source": [
    "Task name: Churn - action rules (06)\n",
    "Task description: -\n",
    "\n",
    "Date of output: 6.11.2024\n",
    "\n",
    "Survey of antecedent attributes\n",
    "\n",
    "\tGroup\tName\tDescription\n",
    "\tDefault Partial Cedent\tGender (subset), 1 - 1\t-\n",
    "\tDefault Partial Cedent\tPartner (subset), 1 - 1\t-\n",
    "\tDefault Partial Cedent\tSeniorCitizen (subset), 1 - 1\t-\n",
    "\n",
    "Survey of variable antecedent attributes\n",
    "\n",
    "\tGroup\tName\tDescription\n",
    "\tDefault Partial Cedent\tDeviceProtection (subset), 1 - 1\t-\n",
    "\tDefault Partial Cedent\tInternetService (subset), 1 - 1\t-\n",
    "\tDefault Partial Cedent\tOnlineSecurity (subset), 1 - 1\t-\n",
    "\tDefault Partial Cedent\tPhoneService (subset), 1 - 1\t-\n",
    "\tDefault Partial Cedent\tStreamingTV (subset), 1 - 1\t-\n",
    "\tDefault Partial Cedent\tTechSupport (subset), 1 - 1\t-\n",
    "\n",
    "Survey of succedent attributes\n",
    "\n",
    "\tGroup\tName\tDescription\n",
    "\n",
    "Survey of variable sukcedent attributes\n",
    "\n",
    "\tGroup\tName\tDescription\n",
    "\tDefault Partial Cedent\tChurn (subset), 1 - 1\t-\n",
    "\n",
    "Survey of Action4ft-Quantifiers\n",
    "\ta-frequency\tBefore >= 140.00 Absolute number\n",
    "\ta-frequency\tAfter >= 140.00 Absolute number\n",
    "\tp-Implication\tBefore >= 0.60 Absolute number\n",
    "\tp-Implication\tAfter >= 0.60 Absolute number\n",
    "\n",
    "Task parameters\n",
    "\tThe comparison of the first set versus the second set\n",
    "\tSets must differ in all rows (i.e. not overlapping sets)\n",
    "\n",
    "Nr.\tHypothesis\tD%-Sum\tDf-Conf\tDf-AFUI\tDf-FUE\tDf-Avg\tR-Conf\tR-DFUI\tR-FUE\tR-Avg\tH-Conf\tH-DFUI\tH-FUE\tH-Avg\tB:a\tB:b\tB:c\tB:d\tB:r\tB:n\tB:Conf\tB:DConf\tB:EConf\tB:Supp\tB:Cmplt\tB:AvgDf\tB:Lift\tB:LBound\tB:UBound\tB:ELBound\tB:EUBound\tB:DLBound\tB:DUBound\tB:Fisher\tB:Chi-Sq\tB:PSep\tB:bMean\tB:bVAR\tB:bStDev\tB:P(>=90%)\tB:P(>=95%)\tA:a\tA:b\tA:c\tA:d\tA:r\tA:n\tA:Conf\tA:DConf\tA:EConf\tA:Supp\tA:Cmplt\tA:AvgDf\tA:Lift\tA:LBound\tA:UBound\tA:ELBound\tA:EUBound\tA:DLBound\tA:DUBound\tA:Fisher\tA:Chi-Sq\tA:PSep\tA:bMean\tA:bVAR\tA:bStDev\tA:P(>=90%)\tA:P(>=95%)\t\n",
    "2\tGender(Female) & Partner(No) & SeniorCitizen(0) :  (InternetService(No) & OnlineSecurity(No internet service) & TechSupport(No internet service)  ->  InternetService(Fiber optic) & OnlineSecurity(No) & TechSupport(No)) >÷< (Churn(No)  ->  Churn(Yes))\t0.94\t0.2958758837\t-0.0555706377\t-0.4424251029\t-1.0478372148\t1.4909730822\t0.5098135888\t0.4067022087\t0.1755232818\t1.4909730822\t1.9615012664\t2.4588014981\t5.6972499012\t301\t34\t4873\t1835\t335\t7043\t0.8985074627\t0.0577956989\t0.3032798523\t0.0427374698\t0.0581754928\t0.2230746153\t1.2230746153\t0.5814271042\t0.4902764179\t1\t0\t1\t0\t0\t48.4536915153\t15.3023255814\t0.8961424332\t0.8961424332\t0.0165939296\t0.4257433595\t0.0000411352\t229\t151\t1640\t5023\t380\t7043\t0.6026315789\t0.1133663366\t0.7457049553\t0.0325145535\t0.1225254147\t1.2709118301\t2.2709118301\t1\t0\t1\t0\t1\t0\t0\t234.360919538\t6.8209606987\t0.6020942408\t0.6020942408\t0.0250105339\t0\t0\t\n",
    "4\tGender(Female) & Partner(No) & SeniorCitizen(0) :  (DeviceProtection(No internet service) & InternetService(No) & OnlineSecurity(No internet service)  ->  DeviceProtection(No) & InternetService(Fiber optic) & OnlineSecurity(No)) >÷< (Churn(No)  ->  Churn(Yes))\t0.94\t0.28580905\t-0.039140514\t-0.4414312083\t-1.0857723192\t1.4664759106\t0.5962240236\t0.4072449952\t0.1704359841\t1.4664759106\t1.6772219172\t2.4555243446\t5.8673055767\t301\t34\t4873\t1835\t335\t7043\t0.8985074627\t0.0577956989\t0.3032798523\t0.0427374698\t0.0581754928\t0.2230746153\t1.2230746153\t0.5814271042\t0.4902764179\t1\t0\t1\t0\t0\t48.4536915153\t15.3023255814\t0.8961424332\t0.8961424332\t0.0165939296\t0.4257433595\t0.0000411352\t193\t122\t1676\t5052\t315\t7043\t0.6126984127\t0.096936213\t0.7447110606\t0.0274030953\t0.1032637774\t1.3088469345\t2.3088469345\t1\t0\t1\t0\t1\t0\t0\t204.0529401147\t8.3160621762\t0.6119873817\t0.6119873817\t0.0273262853\t0\t0\t\n",
    "3\tGender(Female) & Partner(No) & SeniorCitizen(0) :  (DeviceProtection(No internet service) & InternetService(No) & TechSupport(No internet service)  ->  DeviceProtection(No) & InternetService(Fiber optic) & TechSupport(No)) >÷< (Churn(No)  ->  Churn(Yes))\t0.93\t0.2855043667\t-0.0415021948\t-0.4417151782\t-1.0869204649\t1.4657470225\t0.5820435538\t0.4070897656\t0.1702866054\t1.4657470225\t1.718084486\t2.4564606742\t5.87245249\t301\t34\t4873\t1835\t335\t7043\t0.8985074627\t0.0577956989\t0.3032798523\t0.0427374698\t0.0581754928\t0.2230746153\t1.2230746153\t0.5814271042\t0.4902764179\t1\t0\t1\t0\t0\t48.4536915153\t15.3023255814\t0.8961424332\t0.8961424332\t0.0165939296\t0.4257433595\t0.0000411352\t198\t125\t1671\t5049\t323\t7043\t0.613003096\t0.0992978937\t0.7449950305\t0.02811302\t0.1059390048\t1.3099950802\t2.3099950802\t1\t0\t1\t0\t1\t0\t0\t209.8520151356\t8.0707070707\t0.6123076923\t0.6123076923\t0.0269848277\t0\t0\t\n",
    "5\tGender(Female) & Partner(No) & SeniorCitizen(0) :  (DeviceProtection(No internet service) & InternetService(No) & OnlineSecurity(No internet service) & TechSupport(No internet service)  ->  DeviceProtection(No) & InternetService(Fiber optic) & OnlineSecurity(No) & TechSupport(No)) >÷< (Churn(No)  ->  Churn(Yes))\t0.94\t0.2618168152\t-0.0320520168\t-0.442141133\t-1.1761828647\t1.4112151109\t0.6432628637\t0.4068571429\t0.1594235646\t1.4112151109\t1.5545744304\t2.4578651685\t6.2725984218\t301\t34\t4873\t1835\t335\t7043\t0.8985074627\t0.0577956989\t0.3032798523\t0.0427374698\t0.0581754928\t0.2230746153\t1.2230746153\t0.5814271042\t0.4902764179\t1\t0\t1\t0\t0\t48.4536915153\t15.3023255814\t0.8961424332\t0.8961424332\t0.0165939296\t0.4257433595\t0.0000411352\t177\t101\t1692\t5073\t278\t7043\t0.6366906475\t0.0898477157\t0.7454209854\t0.0251313361\t0.0947030498\t1.3992574801\t2.3992574801\t1\t0\t1\t0\t1\t0\t0\t204.6976396054\t9.1299435028\t0.6357142857\t0.6357142857\t0.0287077328\t0\t0\t\n",
    "8\tGender(Female) & Partner(No) & SeniorCitizen(0) :  (DeviceProtection(No) & InternetService(Fiber optic) & OnlineSecurity(No) & TechSupport(No)  ->  DeviceProtection(No internet service) & InternetService(No) & OnlineSecurity(No internet service) & TechSupport(No internet service)) >÷< (Churn(Yes)  ->  Churn(No))\t0.94\t-0.2618168152\t0.0320520168\t0.442141133\t1.1761828647\t0.7086091924\t1.5545744304\t2.4578651685\t6.2725984218\t1.4112151109\t1.5545744304\t2.4578651685\t6.2725984218\t177\t101\t1692\t5073\t278\t7043\t0.6366906475\t0.0898477157\t0.7454209854\t0.0251313361\t0.0947030498\t1.3992574801\t2.3992574801\t1\t0\t1\t0\t1\t0\t0\t204.6976396054\t9.1299435028\t0.6357142857\t0.6357142857\t0.0287077328\t0\t0\t301\t34\t4873\t1835\t335\t7043\t0.8985074627\t0.0577956989\t0.3032798523\t0.0427374698\t0.0581754928\t0.2230746153\t1.2230746153\t0.5814271042\t0.4902764179\t1\t0\t1\t0\t0\t48.4536915153\t15.3023255814\t0.8961424332\t0.8961424332\t0.0165939296\t0.4257433595\t0.0000411352\t\n",
    "6\tGender(Female) & Partner(No) & SeniorCitizen(0) :  (DeviceProtection(No) & InternetService(Fiber optic) & TechSupport(No)  ->  DeviceProtection(No internet service) & InternetService(No) & TechSupport(No internet service)) >÷< (Churn(Yes)  ->  Churn(No))\t0.93\t-0.2855043667\t0.0415021948\t0.4417151782\t1.0869204649\t0.6822459706\t1.718084486\t2.4564606742\t5.87245249\t1.4657470225\t1.718084486\t2.4564606742\t5.87245249\t198\t125\t1671\t5049\t323\t7043\t0.613003096\t0.0992978937\t0.7449950305\t0.02811302\t0.1059390048\t1.3099950802\t2.3099950802\t1\t0\t1\t0\t1\t0\t0\t209.8520151356\t8.0707070707\t0.6123076923\t0.6123076923\t0.0269848277\t0\t0\t301\t34\t4873\t1835\t335\t7043\t0.8985074627\t0.0577956989\t0.3032798523\t0.0427374698\t0.0581754928\t0.2230746153\t1.2230746153\t0.5814271042\t0.4902764179\t1\t0\t1\t0\t0\t48.4536915153\t15.3023255814\t0.8961424332\t0.8961424332\t0.0165939296\t0.4257433595\t0.0000411352\t\n",
    "7\tGender(Female) & Partner(No) & SeniorCitizen(0) :  (DeviceProtection(No) & InternetService(Fiber optic) & OnlineSecurity(No)  ->  DeviceProtection(No internet service) & InternetService(No) & OnlineSecurity(No internet service)) >÷< (Churn(Yes)  ->  Churn(No))\t0.94\t-0.28580905\t0.039140514\t0.4414312083\t1.0857723192\t0.6819068713\t1.6772219172\t2.4555243446\t5.8673055767\t1.4664759106\t1.6772219172\t2.4555243446\t5.8673055767\t193\t122\t1676\t5052\t315\t7043\t0.6126984127\t0.096936213\t0.7447110606\t0.0274030953\t0.1032637774\t1.3088469345\t2.3088469345\t1\t0\t1\t0\t1\t0\t0\t204.0529401147\t8.3160621762\t0.6119873817\t0.6119873817\t0.0273262853\t0\t0\t301\t34\t4873\t1835\t335\t7043\t0.8985074627\t0.0577956989\t0.3032798523\t0.0427374698\t0.0581754928\t0.2230746153\t1.2230746153\t0.5814271042\t0.4902764179\t1\t0\t1\t0\t0\t48.4536915153\t15.3023255814\t0.8961424332\t0.8961424332\t0.0165939296\t0.4257433595\t0.0000411352\t\n",
    "1\tGender(Female) & Partner(No) & SeniorCitizen(0) :  (InternetService(Fiber optic) & OnlineSecurity(No) & TechSupport(No)  ->  InternetService(No) & OnlineSecurity(No internet service) & TechSupport(No internet service)) >÷< (Churn(Yes)  ->  Churn(No))\t0.94\t-0.2958758837\t0.0555706377\t0.4424251029\t1.0478372148\t0.6707029201\t1.9615012664\t2.4588014981\t5.6972499012\t1.4909730822\t1.9615012664\t2.4588014981\t5.6972499012\t229\t151\t1640\t5023\t380\t7043\t0.6026315789\t0.1133663366\t0.7457049553\t0.0325145535\t0.1225254147\t1.2709118301\t2.2709118301\t1\t0\t1\t0\t1\t0\t0\t234.360919538\t6.8209606987\t0.6020942408\t0.6020942408\t0.0250105339\t0\t0\t301\t34\t4873\t1835\t335\t7043\t0.8985074627\t0.0577956989\t0.3032798523\t0.0427374698\t0.0581754928\t0.2230746153\t1.2230746153\t0.5814271042\t0.4902764179\t1\t0\t1\t0\t0\t48.4536915153\t15.3023255814\t0.8961424332\t0.8961424332\t0.0165939296\t0.4257433595\t0.0000411352\t\n",
    "\n",
    "*** End of list ***\n"
   ]
  },
  {
   "cell_type": "markdown",
   "id": "cb935327-2cce-48f5-8a5b-c23660f749dd",
   "metadata": {},
   "source": [
    "action-rules"
   ]
  },
  {
   "cell_type": "code",
   "execution_count": 10,
   "id": "029a8c69-3e27-4f9a-b98f-4d4a132d3cee",
   "metadata": {},
   "outputs": [
    {
     "data": {
      "text/plain": [
       "['[(gender: Female) ∧ (SeniorCitizen: 0) ∧ (Partner: No) ∧ (InternetService: Fiber optic → No) ∧ (OnlineSecurity: No → No internet service) ∧ (DeviceProtection: No → No internet service)] ⇒ [Churn: Yes → No], support of undesired part: 193, confidence of undesired part: 0.6126984126984127, support of desired part: 301, confidence of desired part: 0.8985074626865671, uplift: 0.022863815241554546',\n",
       " '[(gender: Female) ∧ (SeniorCitizen: 0) ∧ (Partner: No) ∧ (InternetService: Fiber optic → No) ∧ (DeviceProtection: No → No internet service) ∧ (TechSupport: No → No internet service)] ⇒ [Churn: Yes → No], support of undesired part: 198, confidence of undesired part: 0.6130030959752322, support of desired part: 301, confidence of desired part: 0.8985074626865671, uplift: 0.023458456687173244',\n",
       " '[(gender: Female) ∧ (SeniorCitizen: 0) ∧ (Partner: No) ∧ (InternetService: Fiber optic → No) ∧ (OnlineSecurity: No → No internet service) ∧ (TechSupport: No → No internet service)] ⇒ [Churn: Yes → No], support of undesired part: 229, confidence of undesired part: 0.6026315789473684, support of desired part: 301, confidence of desired part: 0.8985074626865671, uplift: 0.027038596595328056',\n",
       " '[(gender: Female) ∧ (SeniorCitizen: 0) ∧ (Partner: No) ∧ (InternetService: Fiber optic → No) ∧ (OnlineSecurity: No → No internet service) ∧ (DeviceProtection: No → No internet service) ∧ (TechSupport: No → No internet service)] ⇒ [Churn: Yes → No], support of undesired part: 177, confidence of undesired part: 0.6366906474820144, support of desired part: 301, confidence of desired part: 0.8985074626865671, uplift: 0.021125241321434854',\n",
       " '[(gender: Female) ∧ (SeniorCitizen: 0) ∧ (Partner: No) ∧ (InternetService: No → Fiber optic) ∧ (OnlineSecurity: No internet service → No) ∧ (DeviceProtection: No internet service → No)] ⇒ [Churn: No → Yes], support of undesired part: 301, confidence of undesired part: 0.8985074626865671, support of desired part: 193, confidence of desired part: 0.6126984126984127, uplift: 0.024315486050542134',\n",
       " '[(gender: Female) ∧ (SeniorCitizen: 0) ∧ (Partner: No) ∧ (InternetService: No → Fiber optic) ∧ (DeviceProtection: No internet service → No) ∧ (TechSupport: No internet service → No)] ⇒ [Churn: No → Yes], support of undesired part: 301, confidence of undesired part: 0.8985074626865671, support of desired part: 198, confidence of desired part: 0.6130030959752322, uplift: 0.024329978297842222',\n",
       " '[(gender: Female) ∧ (SeniorCitizen: 0) ∧ (Partner: No) ∧ (InternetService: No → Fiber optic) ∧ (OnlineSecurity: No internet service → No) ∧ (TechSupport: No internet service → No)] ⇒ [Churn: No → Yes], support of undesired part: 301, confidence of undesired part: 0.8985074626865671, support of desired part: 229, confidence of desired part: 0.6026315789473684, uplift: 0.02383665752482868',\n",
       " '[(gender: Female) ∧ (SeniorCitizen: 0) ∧ (Partner: No) ∧ (InternetService: No → Fiber optic) ∧ (OnlineSecurity: No internet service → No) ∧ (DeviceProtection: No internet service → No) ∧ (TechSupport: No internet service → No)] ⇒ [Churn: No → Yes], support of undesired part: 301, confidence of undesired part: 0.8985074626865671, support of desired part: 177, confidence of desired part: 0.6366906474820144, uplift: 0.025456675693095957']"
      ]
     },
     "execution_count": 10,
     "metadata": {},
     "output_type": "execute_result"
    }
   ],
   "source": [
    "mining(140, 0.6)"
   ]
  },
  {
   "cell_type": "markdown",
   "id": "0360ab87-07da-4702-b486-380870958125",
   "metadata": {},
   "source": [
    "# Results Table"
   ]
  },
  {
   "cell_type": "code",
   "execution_count": 13,
   "id": "e9d4739b-da29-4a69-b8ef-f8d7e6daaa70",
   "metadata": {},
   "outputs": [
    {
     "data": {
      "text/html": [
       "<div>\n",
       "<style scoped>\n",
       "    .dataframe tbody tr th:only-of-type {\n",
       "        vertical-align: middle;\n",
       "    }\n",
       "\n",
       "    .dataframe tbody tr th {\n",
       "        vertical-align: top;\n",
       "    }\n",
       "\n",
       "    .dataframe thead th {\n",
       "        text-align: right;\n",
       "    }\n",
       "</style>\n",
       "<table border=\"1\" class=\"dataframe\">\n",
       "  <thead>\n",
       "    <tr style=\"text-align: right;\">\n",
       "      <th></th>\n",
       "      <th>Support, Confidence</th>\n",
       "      <th>LISp-Miner Time (s)</th>\n",
       "      <th>LISp-Miner Rules</th>\n",
       "      <th>Action-Rules Time (ms)</th>\n",
       "      <th>Action-Rules Rules</th>\n",
       "      <th>Action-Rules Speed (x)</th>\n",
       "    </tr>\n",
       "  </thead>\n",
       "  <tbody>\n",
       "    <tr>\n",
       "      <th>0</th>\n",
       "      <td>70, 50%</td>\n",
       "      <td>70</td>\n",
       "      <td>178</td>\n",
       "      <td>372</td>\n",
       "      <td>178</td>\n",
       "      <td>188.172043</td>\n",
       "    </tr>\n",
       "    <tr>\n",
       "      <th>1</th>\n",
       "      <td>70, 60%</td>\n",
       "      <td>24</td>\n",
       "      <td>32</td>\n",
       "      <td>341</td>\n",
       "      <td>32</td>\n",
       "      <td>70.381232</td>\n",
       "    </tr>\n",
       "    <tr>\n",
       "      <th>2</th>\n",
       "      <td>140, 50%</td>\n",
       "      <td>11</td>\n",
       "      <td>70</td>\n",
       "      <td>208</td>\n",
       "      <td>70</td>\n",
       "      <td>52.884615</td>\n",
       "    </tr>\n",
       "    <tr>\n",
       "      <th>3</th>\n",
       "      <td>140, 60%</td>\n",
       "      <td>7</td>\n",
       "      <td>8</td>\n",
       "      <td>187</td>\n",
       "      <td>8</td>\n",
       "      <td>37.433155</td>\n",
       "    </tr>\n",
       "  </tbody>\n",
       "</table>\n",
       "</div>"
      ],
      "text/plain": [
       "  Support, Confidence  LISp-Miner Time (s)  LISp-Miner Rules  \\\n",
       "0             70, 50%                   70               178   \n",
       "1             70, 60%                   24                32   \n",
       "2            140, 50%                   11                70   \n",
       "3            140, 60%                    7                 8   \n",
       "\n",
       "   Action-Rules Time (ms)  Action-Rules Rules  Action-Rules Speed (x)  \n",
       "0                     372                 178              188.172043  \n",
       "1                     341                  32               70.381232  \n",
       "2                     208                  70               52.884615  \n",
       "3                     187                   8               37.433155  "
      ]
     },
     "execution_count": 13,
     "metadata": {},
     "output_type": "execute_result"
    }
   ],
   "source": [
    "data = {\n",
    "    'Support, Confidence': ['70, 50%', '70, 60%', '140, 50%', '140, 60%'],\n",
    "    'LISp-Miner Time (s)': [70, 24, 11, 7],\n",
    "    'LISp-Miner Rules': [178, 32, 70, 8],\n",
    "    'Action-Rules Time (ms)': [372, 341, 208, 187],\n",
    "    'Action-Rules Rules': [178, 32, 70, 8]\n",
    "}\n",
    "\n",
    "# Create DataFrame\n",
    "df = pd.DataFrame(data)\n",
    "\n",
    "df['Action-Rules Speed (x)'] = (df['LISp-Miner Time (s)'] * 1000) / df['Action-Rules Time (ms)']\n",
    "df"
   ]
  },
  {
   "cell_type": "code",
   "execution_count": null,
   "id": "c8c8523e-915f-44f6-9622-6fffe6de2b18",
   "metadata": {},
   "outputs": [],
   "source": []
  }
 ],
 "metadata": {
  "kernelspec": {
   "display_name": "Python 3 (ipykernel)",
   "language": "python",
   "name": "python3"
  },
  "language_info": {
   "codemirror_mode": {
    "name": "ipython",
    "version": 3
   },
   "file_extension": ".py",
   "mimetype": "text/x-python",
   "name": "python",
   "nbconvert_exporter": "python",
   "pygments_lexer": "ipython3",
   "version": "3.10.10"
  }
 },
 "nbformat": 4,
 "nbformat_minor": 5
}
