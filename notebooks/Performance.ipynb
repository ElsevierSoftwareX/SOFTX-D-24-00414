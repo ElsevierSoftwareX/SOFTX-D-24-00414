{
 "cells": [
  {
   "cell_type": "markdown",
   "id": "e5809149-3590-47aa-950d-c5fb7fe222e9",
   "metadata": {},
   "source": [
    "# Performance Pandas vs. cuDF vs. ActionRulesDiscovery"
   ]
  },
  {
   "cell_type": "markdown",
   "id": "c8d12d17-311f-4f6a-8f67-bcfd24d717ea",
   "metadata": {},
   "source": [
    "## Parameters"
   ]
  },
  {
   "cell_type": "code",
   "execution_count": 1,
   "id": "68822492-3e64-4bbc-8ea0-79a6b7e27f14",
   "metadata": {},
   "outputs": [],
   "source": [
    "stable_attributes = [\"gender\", \"SeniorCitizen\", \"Partner\"]\n",
    "flexible_attributes = [\"PhoneService\", \n",
    "                       \"InternetService\", \n",
    "                       \"OnlineSecurity\", \n",
    "                       \"DeviceProtection\", \n",
    "                       \"TechSupport\",\n",
    "                       \"StreamingTV\"]\n",
    "target = 'Churn'\n",
    "min_stable_attributes = 2\n",
    "min_flexible_attributes = 1 #min 1\n",
    "min_undesired_support = 50\n",
    "min_undesired_confidence = 0.6\n",
    "min_desired_support = 50\n",
    "min_desired_confidence = 0.6\n",
    "undesired_state = 'Yes'\n",
    "desired_state = 'No'"
   ]
  },
  {
   "cell_type": "markdown",
   "id": "2bcc85ff-8b18-48f6-a487-61c750307ad3",
   "metadata": {},
   "source": [
    "## Pandas (action-rules)"
   ]
  },
  {
   "cell_type": "code",
   "execution_count": 2,
   "id": "7b47fcac-cb49-41ac-b85a-43d4b5f4d46a",
   "metadata": {},
   "outputs": [],
   "source": [
    "import pandas as pd"
   ]
  },
  {
   "cell_type": "markdown",
   "id": "a52a3b7c-49ec-4da9-9906-30de19ed9293",
   "metadata": {},
   "source": [
    "### Data"
   ]
  },
  {
   "cell_type": "markdown",
   "id": "1b347a9f-8ed3-45dc-8ff6-9afed9b7620a",
   "metadata": {},
   "source": [
    "Import data to Pandas DataFrame."
   ]
  },
  {
   "cell_type": "code",
   "execution_count": 3,
   "id": "4f2f5d34-cab3-4302-b16d-2fad870940bc",
   "metadata": {},
   "outputs": [
    {
     "data": {
      "text/html": [
       "<div>\n",
       "<style scoped>\n",
       "    .dataframe tbody tr th:only-of-type {\n",
       "        vertical-align: middle;\n",
       "    }\n",
       "\n",
       "    .dataframe tbody tr th {\n",
       "        vertical-align: top;\n",
       "    }\n",
       "\n",
       "    .dataframe thead th {\n",
       "        text-align: right;\n",
       "    }\n",
       "</style>\n",
       "<table border=\"1\" class=\"dataframe\">\n",
       "  <thead>\n",
       "    <tr style=\"text-align: right;\">\n",
       "      <th></th>\n",
       "      <th>customerID</th>\n",
       "      <th>gender</th>\n",
       "      <th>SeniorCitizen</th>\n",
       "      <th>Partner</th>\n",
       "      <th>Dependents</th>\n",
       "      <th>tenure</th>\n",
       "      <th>PhoneService</th>\n",
       "      <th>MultipleLines</th>\n",
       "      <th>InternetService</th>\n",
       "      <th>OnlineSecurity</th>\n",
       "      <th>OnlineBackup</th>\n",
       "      <th>DeviceProtection</th>\n",
       "      <th>TechSupport</th>\n",
       "      <th>StreamingTV</th>\n",
       "      <th>StreamingMovies</th>\n",
       "      <th>Contract</th>\n",
       "      <th>PaperlessBilling</th>\n",
       "      <th>PaymentMethod</th>\n",
       "      <th>MonthlyCharges</th>\n",
       "      <th>TotalCharges</th>\n",
       "      <th>Churn</th>\n",
       "    </tr>\n",
       "  </thead>\n",
       "  <tbody>\n",
       "    <tr>\n",
       "      <th>0</th>\n",
       "      <td>7590-VHVEG</td>\n",
       "      <td>Female</td>\n",
       "      <td>0</td>\n",
       "      <td>Yes</td>\n",
       "      <td>No</td>\n",
       "      <td>1</td>\n",
       "      <td>No</td>\n",
       "      <td>No phone service</td>\n",
       "      <td>DSL</td>\n",
       "      <td>No</td>\n",
       "      <td>Yes</td>\n",
       "      <td>No</td>\n",
       "      <td>No</td>\n",
       "      <td>No</td>\n",
       "      <td>No</td>\n",
       "      <td>Month-to-month</td>\n",
       "      <td>Yes</td>\n",
       "      <td>Electronic check</td>\n",
       "      <td>29.85</td>\n",
       "      <td>29.85</td>\n",
       "      <td>No</td>\n",
       "    </tr>\n",
       "    <tr>\n",
       "      <th>1</th>\n",
       "      <td>5575-GNVDE</td>\n",
       "      <td>Male</td>\n",
       "      <td>0</td>\n",
       "      <td>No</td>\n",
       "      <td>No</td>\n",
       "      <td>34</td>\n",
       "      <td>Yes</td>\n",
       "      <td>No</td>\n",
       "      <td>DSL</td>\n",
       "      <td>Yes</td>\n",
       "      <td>No</td>\n",
       "      <td>Yes</td>\n",
       "      <td>No</td>\n",
       "      <td>No</td>\n",
       "      <td>No</td>\n",
       "      <td>One year</td>\n",
       "      <td>No</td>\n",
       "      <td>Mailed check</td>\n",
       "      <td>56.95</td>\n",
       "      <td>1889.5</td>\n",
       "      <td>No</td>\n",
       "    </tr>\n",
       "    <tr>\n",
       "      <th>2</th>\n",
       "      <td>3668-QPYBK</td>\n",
       "      <td>Male</td>\n",
       "      <td>0</td>\n",
       "      <td>No</td>\n",
       "      <td>No</td>\n",
       "      <td>2</td>\n",
       "      <td>Yes</td>\n",
       "      <td>No</td>\n",
       "      <td>DSL</td>\n",
       "      <td>Yes</td>\n",
       "      <td>Yes</td>\n",
       "      <td>No</td>\n",
       "      <td>No</td>\n",
       "      <td>No</td>\n",
       "      <td>No</td>\n",
       "      <td>Month-to-month</td>\n",
       "      <td>Yes</td>\n",
       "      <td>Mailed check</td>\n",
       "      <td>53.85</td>\n",
       "      <td>108.15</td>\n",
       "      <td>Yes</td>\n",
       "    </tr>\n",
       "    <tr>\n",
       "      <th>3</th>\n",
       "      <td>7795-CFOCW</td>\n",
       "      <td>Male</td>\n",
       "      <td>0</td>\n",
       "      <td>No</td>\n",
       "      <td>No</td>\n",
       "      <td>45</td>\n",
       "      <td>No</td>\n",
       "      <td>No phone service</td>\n",
       "      <td>DSL</td>\n",
       "      <td>Yes</td>\n",
       "      <td>No</td>\n",
       "      <td>Yes</td>\n",
       "      <td>Yes</td>\n",
       "      <td>No</td>\n",
       "      <td>No</td>\n",
       "      <td>One year</td>\n",
       "      <td>No</td>\n",
       "      <td>Bank transfer (automatic)</td>\n",
       "      <td>42.30</td>\n",
       "      <td>1840.75</td>\n",
       "      <td>No</td>\n",
       "    </tr>\n",
       "    <tr>\n",
       "      <th>4</th>\n",
       "      <td>9237-HQITU</td>\n",
       "      <td>Female</td>\n",
       "      <td>0</td>\n",
       "      <td>No</td>\n",
       "      <td>No</td>\n",
       "      <td>2</td>\n",
       "      <td>Yes</td>\n",
       "      <td>No</td>\n",
       "      <td>Fiber optic</td>\n",
       "      <td>No</td>\n",
       "      <td>No</td>\n",
       "      <td>No</td>\n",
       "      <td>No</td>\n",
       "      <td>No</td>\n",
       "      <td>No</td>\n",
       "      <td>Month-to-month</td>\n",
       "      <td>Yes</td>\n",
       "      <td>Electronic check</td>\n",
       "      <td>70.70</td>\n",
       "      <td>151.65</td>\n",
       "      <td>Yes</td>\n",
       "    </tr>\n",
       "  </tbody>\n",
       "</table>\n",
       "</div>"
      ],
      "text/plain": [
       "   customerID  gender  SeniorCitizen Partner Dependents  tenure PhoneService  \\\n",
       "0  7590-VHVEG  Female              0     Yes         No       1           No   \n",
       "1  5575-GNVDE    Male              0      No         No      34          Yes   \n",
       "2  3668-QPYBK    Male              0      No         No       2          Yes   \n",
       "3  7795-CFOCW    Male              0      No         No      45           No   \n",
       "4  9237-HQITU  Female              0      No         No       2          Yes   \n",
       "\n",
       "      MultipleLines InternetService OnlineSecurity OnlineBackup  \\\n",
       "0  No phone service             DSL             No          Yes   \n",
       "1                No             DSL            Yes           No   \n",
       "2                No             DSL            Yes          Yes   \n",
       "3  No phone service             DSL            Yes           No   \n",
       "4                No     Fiber optic             No           No   \n",
       "\n",
       "  DeviceProtection TechSupport StreamingTV StreamingMovies        Contract  \\\n",
       "0               No          No          No              No  Month-to-month   \n",
       "1              Yes          No          No              No        One year   \n",
       "2               No          No          No              No  Month-to-month   \n",
       "3              Yes         Yes          No              No        One year   \n",
       "4               No          No          No              No  Month-to-month   \n",
       "\n",
       "  PaperlessBilling              PaymentMethod  MonthlyCharges TotalCharges  \\\n",
       "0              Yes           Electronic check           29.85        29.85   \n",
       "1               No               Mailed check           56.95       1889.5   \n",
       "2              Yes               Mailed check           53.85       108.15   \n",
       "3               No  Bank transfer (automatic)           42.30      1840.75   \n",
       "4              Yes           Electronic check           70.70       151.65   \n",
       "\n",
       "  Churn  \n",
       "0    No  \n",
       "1    No  \n",
       "2   Yes  \n",
       "3    No  \n",
       "4   Yes  "
      ]
     },
     "execution_count": 3,
     "metadata": {},
     "output_type": "execute_result"
    }
   ],
   "source": [
    "pd.set_option('display.max_columns', None)\n",
    "dataFrame = pd.read_csv(\"data/telco.csv\", sep=\";\")\n",
    "dataFrame.head()"
   ]
  },
  {
   "cell_type": "markdown",
   "id": "18fee7d5-8b86-41f6-a179-149ae2b51d77",
   "metadata": {},
   "source": [
    "### Action rules"
   ]
  },
  {
   "cell_type": "code",
   "execution_count": 4,
   "id": "5125f54b-8c7a-4253-9bc0-159013b6bc24",
   "metadata": {},
   "outputs": [],
   "source": [
    "from action_rules import ActionRules\n",
    "# Action Rules Mining\n",
    "action_rules = ActionRules(\n",
    "    min_stable_attributes = min_stable_attributes, \n",
    "    min_flexible_attributes = min_flexible_attributes, \n",
    "    min_undesired_support = min_undesired_support, \n",
    "    min_undesired_confidence = min_undesired_confidence, \n",
    "    min_desired_support = min_desired_support,\n",
    "    min_desired_confidence = min_desired_confidence, \n",
    "    verbose = False)"
   ]
  },
  {
   "cell_type": "code",
   "execution_count": 5,
   "id": "1920619d-e970-4b07-a0ec-04a2e51b4f54",
   "metadata": {},
   "outputs": [],
   "source": [
    "def measure_time():\n",
    "    action_rules.fit(\n",
    "        data = dataFrame, \n",
    "        stable_attributes = stable_attributes, \n",
    "        flexible_attributes = flexible_attributes, \n",
    "        target = target, \n",
    "        undesired_state = undesired_state,\n",
    "        desired_state = desired_state, \n",
    "        use_gpu = False\n",
    "    )"
   ]
  },
  {
   "cell_type": "markdown",
   "id": "91b407e2-645c-443a-9ca4-1c2c9fac9053",
   "metadata": {},
   "source": [
    "### Count action rules"
   ]
  },
  {
   "cell_type": "code",
   "execution_count": 6,
   "id": "103c2c4b-ac1f-4c03-b2ca-b572f12b8371",
   "metadata": {},
   "outputs": [
    {
     "data": {
      "text/plain": [
       "327"
      ]
     },
     "execution_count": 6,
     "metadata": {},
     "output_type": "execute_result"
    }
   ],
   "source": [
    "measure_time()\n",
    "len(action_rules.get_rules().get_ar_notation())"
   ]
  },
  {
   "cell_type": "markdown",
   "id": "7d957acb-6377-41ca-8c51-f57872b2d202",
   "metadata": {},
   "source": [
    "### Time"
   ]
  },
  {
   "cell_type": "code",
   "execution_count": 7,
   "id": "b2e6a9c9-2089-4b66-965e-47be6ee8f3b1",
   "metadata": {},
   "outputs": [
    {
     "name": "stdout",
     "output_type": "stream",
     "text": [
      "4.06 s ± 20.9 ms per loop (mean ± std. dev. of 7 runs, 1 loop each)\n"
     ]
    }
   ],
   "source": [
    "%timeit measure_time()"
   ]
  },
  {
   "cell_type": "markdown",
   "id": "45cea4ae-beae-4fd6-8ad8-725c91e94f85",
   "metadata": {},
   "source": [
    "### Show first five rules"
   ]
  },
  {
   "cell_type": "code",
   "execution_count": 8,
   "id": "7656b5a2-4eeb-41c5-8125-02136d7488c4",
   "metadata": {},
   "outputs": [
    {
     "name": "stdout",
     "output_type": "stream",
     "text": [
      "[(gender: Female) ∧ (SeniorCitizen: 1) ∧ (OnlineSecurity*: No) ∧ (DeviceProtection: No → Yes)] ⇒ [Churn: Churn_<item_target>_Yes → Churn_<item_target>_No], support of undesired part: 144, confidence of undesired part: 0.602510460251046, support of desired part: 102, confidence of desired part: 0.6415094339622641, uplift: 58.32075471698113\n",
      "\n",
      "[(gender: Female) ∧ (SeniorCitizen: 1) ∧ (OnlineSecurity: No → Yes) ∧ (DeviceProtection: No → Yes)] ⇒ [Churn: Churn_<item_target>_Yes → Churn_<item_target>_No], support of undesired part: 144, confidence of undesired part: 0.602510460251046, support of desired part: 66, confidence of desired part: 0.8571428571428571, uplift: 109.85714285714283\n",
      "\n",
      "[(gender: Female) ∧ (SeniorCitizen: 1) ∧ (PhoneService*: Yes) ∧ (OnlineSecurity*: No) ∧ (DeviceProtection: No → Yes)] ⇒ [Churn: Churn_<item_target>_Yes → Churn_<item_target>_No], support of undesired part: 130, confidence of undesired part: 0.6074766355140186, support of desired part: 94, confidence of desired part: 0.6438356164383562, uplift: 53.780821917808225\n",
      "\n",
      "[(gender: Female) ∧ (SeniorCitizen: 1) ∧ (PhoneService*: Yes) ∧ (OnlineSecurity: No → Yes) ∧ (DeviceProtection: No → Yes)] ⇒ [Churn: Churn_<item_target>_Yes → Churn_<item_target>_No], support of undesired part: 130, confidence of undesired part: 0.6074766355140186, support of desired part: 62, confidence of desired part: 0.8493150684931506, uplift: 97.75342465753423\n",
      "\n",
      "[(gender: Female) ∧ (SeniorCitizen: 1) ∧ (InternetService*: Fiber optic) ∧ (OnlineSecurity*: No) ∧ (DeviceProtection: No → Yes)] ⇒ [Churn: Churn_<item_target>_Yes → Churn_<item_target>_No], support of undesired part: 121, confidence of undesired part: 0.6335078534031413, support of desired part: 79, confidence of desired part: 0.6076923076923076, uplift: 46.06923076923074\n",
      "\n"
     ]
    }
   ],
   "source": [
    "for ar in action_rules.get_rules().get_ar_notation()[:5]:\n",
    "    print(ar)\n",
    "    print()"
   ]
  },
  {
   "cell_type": "markdown",
   "id": "9b3a8a50-74da-41e2-82de-084cef618f0d",
   "metadata": {},
   "source": [
    "## cuDF (action-rules)"
   ]
  },
  {
   "cell_type": "code",
   "execution_count": 9,
   "id": "4e4c708e-650f-44ca-b34c-e706024de145",
   "metadata": {},
   "outputs": [
    {
     "ename": "ModuleNotFoundError",
     "evalue": "No module named 'cudf'",
     "output_type": "error",
     "traceback": [
      "\u001b[0;31m---------------------------------------------------------------------------\u001b[0m",
      "\u001b[0;31mModuleNotFoundError\u001b[0m                       Traceback (most recent call last)",
      "Cell \u001b[0;32mIn[9], line 1\u001b[0m\n\u001b[0;32m----> 1\u001b[0m \u001b[38;5;28;01mimport\u001b[39;00m \u001b[38;5;21;01mcudf\u001b[39;00m\n",
      "\u001b[0;31mModuleNotFoundError\u001b[0m: No module named 'cudf'"
     ]
    }
   ],
   "source": [
    "import cudf"
   ]
  },
  {
   "cell_type": "code",
   "execution_count": null,
   "id": "c5c1d437-526c-481a-a3cf-c316bc758d91",
   "metadata": {},
   "outputs": [],
   "source": [
    "### Data"
   ]
  },
  {
   "cell_type": "markdown",
   "id": "8e4c1515-2f46-4b62-b65e-5b8ec3069769",
   "metadata": {},
   "source": [
    "Import data to cuDF dataframe"
   ]
  },
  {
   "cell_type": "code",
   "execution_count": null,
   "id": "4740128e-3a7d-46be-a42f-6a6cdd996652",
   "metadata": {},
   "outputs": [],
   "source": [
    "dataFrame = cudf.read_csv(\"data/telco.csv\", sep=\";\")\n",
    "dataFrame.head()"
   ]
  },
  {
   "cell_type": "code",
   "execution_count": null,
   "id": "a05c4fb3-2b54-4e65-8b39-e5ce5c951ec6",
   "metadata": {},
   "outputs": [],
   "source": [
    "### Actio rules"
   ]
  },
  {
   "cell_type": "code",
   "execution_count": null,
   "id": "9c9b1971-7512-4d94-af80-2409cc5bff81",
   "metadata": {},
   "outputs": [],
   "source": [
    "from action_rules import ActionRules\n",
    "# Action Rules Mining\n",
    "action_rules = ActionRules(\n",
    "    min_stable_attributes = min_stable_attributes, \n",
    "    min_flexible_attributes = min_flexible_attributes, \n",
    "    min_undesired_support = min_undesired_support, \n",
    "    min_undesired_confidence = min_undesired_confidence, \n",
    "    min_desired_support = min_desired_support,\n",
    "    min_desired_confidence = min_desired_confidence, \n",
    "    verbose = False)"
   ]
  },
  {
   "cell_type": "code",
   "execution_count": null,
   "id": "66ce7128-1eff-4018-99d2-a7bbce6a64b9",
   "metadata": {},
   "outputs": [],
   "source": [
    "def measure_time_2():\n",
    "    action_rules.fit(\n",
    "        data = dataFrame, \n",
    "        stable_attributes = stable_attributes, \n",
    "        flexible_attributes = flexible_attributes, \n",
    "        target = target, \n",
    "        undesired_state = undesired_state,\n",
    "        desired_state = desired_state, \n",
    "        use_gpu = True # Use cuDF\n",
    "    )"
   ]
  },
  {
   "cell_type": "markdown",
   "id": "e8ed2764-e530-4a01-84a1-eb9201945689",
   "metadata": {},
   "source": [
    "### Count action rules"
   ]
  },
  {
   "cell_type": "code",
   "execution_count": null,
   "id": "36b878fc-35f6-4e0d-9bbb-fd5d215c020e",
   "metadata": {},
   "outputs": [],
   "source": [
    "measure_time_2()\n",
    "len(action_rules.get_rules().get_ar_notation())"
   ]
  },
  {
   "cell_type": "markdown",
   "id": "3432ea81-793c-4b13-b75f-a383a7e096b9",
   "metadata": {},
   "source": [
    "### Time"
   ]
  },
  {
   "cell_type": "code",
   "execution_count": null,
   "id": "1493ccf5-d9c3-4c17-aa1e-cbbe642add8a",
   "metadata": {},
   "outputs": [],
   "source": [
    "%timeit measure_time_2()"
   ]
  },
  {
   "cell_type": "markdown",
   "id": "d3ccc489-f5b0-4a79-abf3-de55f3fecc0c",
   "metadata": {},
   "source": [
    "### Show first five rules"
   ]
  },
  {
   "cell_type": "code",
   "execution_count": null,
   "id": "829842cb-bc34-4a26-8a44-51face7cb0a3",
   "metadata": {},
   "outputs": [],
   "source": [
    "for ar in action_rules.get_rules().get_ar_notation()[:5]:\n",
    "    print(ar)\n",
    "    print()"
   ]
  },
  {
   "cell_type": "markdown",
   "id": "37ff9e60-7949-42ca-b715-a8f10c0f467c",
   "metadata": {},
   "source": [
    "## DEAR algorithm (actionRulesDiscovery)"
   ]
  },
  {
   "cell_type": "code",
   "execution_count": null,
   "id": "287c7ad1-b6a4-4d63-b1d2-5c307ee153ed",
   "metadata": {},
   "outputs": [],
   "source": [
    "from actionrules.actionRulesDiscovery import ActionRulesDiscovery"
   ]
  },
  {
   "cell_type": "code",
   "execution_count": null,
   "id": "32b1e20d-fa1e-411c-bc91-3a72abb03d72",
   "metadata": {},
   "outputs": [],
   "source": [
    "### Action Rules"
   ]
  },
  {
   "cell_type": "code",
   "execution_count": null,
   "id": "3832ed3a-8880-48bf-8e0a-71928be7274a",
   "metadata": {},
   "outputs": [],
   "source": [
    "def measure_time_3():\n",
    "    actionRulesDiscovery = ActionRulesDiscovery()\n",
    "    actionRulesDiscovery.load_pandas(dataFrame)\n",
    "    actionRulesDiscovery.fit(stable_attributes = stable_attributes ,\n",
    "                             flexible_attributes = flexible_attributes,\n",
    "                             consequent = target,\n",
    "                             conf = min_undesired_confidence * 100, # There is just one confidence for both desired and undesired part.\n",
    "                             supp = -min_undesired_support, # There is just one support for both desired and undesired part. Minus means that it is the absolute support.\n",
    "                             desired_changes = [[undesired_state, desired_state]],\n",
    "                             is_nan=False,\n",
    "                             is_reduction=True,\n",
    "                             min_stable_attributes=min_stable_attributes,\n",
    "                             min_flexible_attributes=min_flexible_attributes)"
   ]
  },
  {
   "cell_type": "markdown",
   "id": "4edc6b59-b910-494a-a2b4-7863f9cecc30",
   "metadata": {},
   "source": [
    "### Count action rules"
   ]
  },
  {
   "cell_type": "code",
   "execution_count": null,
   "id": "8039b487-c13d-4d60-a0b3-b3a93c1365f6",
   "metadata": {},
   "outputs": [],
   "source": [
    "len(actionRulesDiscovery.get_action_rules())"
   ]
  },
  {
   "cell_type": "markdown",
   "id": "c5125724-29ba-4776-be97-af1fe3fc0404",
   "metadata": {},
   "source": [
    "### Time"
   ]
  },
  {
   "cell_type": "code",
   "execution_count": null,
   "id": "fb636744-c702-48b4-a469-b4b0297daeb4",
   "metadata": {},
   "outputs": [],
   "source": [
    "%timeit measure_time_3()"
   ]
  },
  {
   "cell_type": "markdown",
   "id": "5fc49b44-6293-4afc-a48e-90a6f3f04322",
   "metadata": {},
   "source": [
    "### Show first five rules"
   ]
  },
  {
   "cell_type": "code",
   "execution_count": null,
   "id": "9bed1219-0179-42ed-a048-9fe3bb6727d8",
   "metadata": {},
   "outputs": [],
   "source": [
    "for rule in actionRulesDiscovery.get_action_rules_representation()[:20]:\n",
    "    print(rule)\n",
    "    print(\" \")"
   ]
  },
  {
   "cell_type": "code",
   "execution_count": null,
   "id": "db2c5652-e3a9-445f-b6e2-ecc496abfa1d",
   "metadata": {},
   "outputs": [],
   "source": []
  }
 ],
 "metadata": {
  "kernelspec": {
   "display_name": "Python 3 (ipykernel)",
   "language": "python",
   "name": "python3"
  },
  "language_info": {
   "codemirror_mode": {
    "name": "ipython",
    "version": 3
   },
   "file_extension": ".py",
   "mimetype": "text/x-python",
   "name": "python",
   "nbconvert_exporter": "python",
   "pygments_lexer": "ipython3",
   "version": "3.12.3"
  }
 },
 "nbformat": 4,
 "nbformat_minor": 5
}
