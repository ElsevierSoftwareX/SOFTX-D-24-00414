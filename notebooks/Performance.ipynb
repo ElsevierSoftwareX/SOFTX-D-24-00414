{
 "cells": [
  {
   "cell_type": "markdown",
   "id": "e5809149-3590-47aa-950d-c5fb7fe222e9",
   "metadata": {},
   "source": [
    "# Performance Pandas vs. Cudf"
   ]
  },
  {
   "cell_type": "markdown",
   "id": "2bcc85ff-8b18-48f6-a487-61c750307ad3",
   "metadata": {},
   "source": [
    "## Pandas"
   ]
  },
  {
   "cell_type": "code",
   "execution_count": 1,
   "id": "7b47fcac-cb49-41ac-b85a-43d4b5f4d46a",
   "metadata": {},
   "outputs": [],
   "source": [
    "import pandas as pd"
   ]
  },
  {
   "cell_type": "markdown",
   "id": "1b347a9f-8ed3-45dc-8ff6-9afed9b7620a",
   "metadata": {},
   "source": [
    "Import data to Pandas DataFrame."
   ]
  },
  {
   "cell_type": "code",
   "execution_count": 2,
   "id": "4f2f5d34-cab3-4302-b16d-2fad870940bc",
   "metadata": {},
   "outputs": [
    {
     "data": {
      "text/html": [
       "<div>\n",
       "<style scoped>\n",
       "    .dataframe tbody tr th:only-of-type {\n",
       "        vertical-align: middle;\n",
       "    }\n",
       "\n",
       "    .dataframe tbody tr th {\n",
       "        vertical-align: top;\n",
       "    }\n",
       "\n",
       "    .dataframe thead th {\n",
       "        text-align: right;\n",
       "    }\n",
       "</style>\n",
       "<table border=\"1\" class=\"dataframe\">\n",
       "  <thead>\n",
       "    <tr style=\"text-align: right;\">\n",
       "      <th></th>\n",
       "      <th>customerID</th>\n",
       "      <th>gender</th>\n",
       "      <th>SeniorCitizen</th>\n",
       "      <th>Partner</th>\n",
       "      <th>Dependents</th>\n",
       "      <th>tenure</th>\n",
       "      <th>PhoneService</th>\n",
       "      <th>MultipleLines</th>\n",
       "      <th>InternetService</th>\n",
       "      <th>OnlineSecurity</th>\n",
       "      <th>OnlineBackup</th>\n",
       "      <th>DeviceProtection</th>\n",
       "      <th>TechSupport</th>\n",
       "      <th>StreamingTV</th>\n",
       "      <th>StreamingMovies</th>\n",
       "      <th>Contract</th>\n",
       "      <th>PaperlessBilling</th>\n",
       "      <th>PaymentMethod</th>\n",
       "      <th>MonthlyCharges</th>\n",
       "      <th>TotalCharges</th>\n",
       "      <th>Churn</th>\n",
       "    </tr>\n",
       "  </thead>\n",
       "  <tbody>\n",
       "    <tr>\n",
       "      <th>0</th>\n",
       "      <td>7590-VHVEG</td>\n",
       "      <td>Female</td>\n",
       "      <td>0</td>\n",
       "      <td>Yes</td>\n",
       "      <td>No</td>\n",
       "      <td>1</td>\n",
       "      <td>No</td>\n",
       "      <td>No phone service</td>\n",
       "      <td>DSL</td>\n",
       "      <td>No</td>\n",
       "      <td>Yes</td>\n",
       "      <td>No</td>\n",
       "      <td>No</td>\n",
       "      <td>No</td>\n",
       "      <td>No</td>\n",
       "      <td>Month-to-month</td>\n",
       "      <td>Yes</td>\n",
       "      <td>Electronic check</td>\n",
       "      <td>29.85</td>\n",
       "      <td>29.85</td>\n",
       "      <td>No</td>\n",
       "    </tr>\n",
       "    <tr>\n",
       "      <th>1</th>\n",
       "      <td>5575-GNVDE</td>\n",
       "      <td>Male</td>\n",
       "      <td>0</td>\n",
       "      <td>No</td>\n",
       "      <td>No</td>\n",
       "      <td>34</td>\n",
       "      <td>Yes</td>\n",
       "      <td>No</td>\n",
       "      <td>DSL</td>\n",
       "      <td>Yes</td>\n",
       "      <td>No</td>\n",
       "      <td>Yes</td>\n",
       "      <td>No</td>\n",
       "      <td>No</td>\n",
       "      <td>No</td>\n",
       "      <td>One year</td>\n",
       "      <td>No</td>\n",
       "      <td>Mailed check</td>\n",
       "      <td>56.95</td>\n",
       "      <td>1889.5</td>\n",
       "      <td>No</td>\n",
       "    </tr>\n",
       "    <tr>\n",
       "      <th>2</th>\n",
       "      <td>3668-QPYBK</td>\n",
       "      <td>Male</td>\n",
       "      <td>0</td>\n",
       "      <td>No</td>\n",
       "      <td>No</td>\n",
       "      <td>2</td>\n",
       "      <td>Yes</td>\n",
       "      <td>No</td>\n",
       "      <td>DSL</td>\n",
       "      <td>Yes</td>\n",
       "      <td>Yes</td>\n",
       "      <td>No</td>\n",
       "      <td>No</td>\n",
       "      <td>No</td>\n",
       "      <td>No</td>\n",
       "      <td>Month-to-month</td>\n",
       "      <td>Yes</td>\n",
       "      <td>Mailed check</td>\n",
       "      <td>53.85</td>\n",
       "      <td>108.15</td>\n",
       "      <td>Yes</td>\n",
       "    </tr>\n",
       "    <tr>\n",
       "      <th>3</th>\n",
       "      <td>7795-CFOCW</td>\n",
       "      <td>Male</td>\n",
       "      <td>0</td>\n",
       "      <td>No</td>\n",
       "      <td>No</td>\n",
       "      <td>45</td>\n",
       "      <td>No</td>\n",
       "      <td>No phone service</td>\n",
       "      <td>DSL</td>\n",
       "      <td>Yes</td>\n",
       "      <td>No</td>\n",
       "      <td>Yes</td>\n",
       "      <td>Yes</td>\n",
       "      <td>No</td>\n",
       "      <td>No</td>\n",
       "      <td>One year</td>\n",
       "      <td>No</td>\n",
       "      <td>Bank transfer (automatic)</td>\n",
       "      <td>42.30</td>\n",
       "      <td>1840.75</td>\n",
       "      <td>No</td>\n",
       "    </tr>\n",
       "    <tr>\n",
       "      <th>4</th>\n",
       "      <td>9237-HQITU</td>\n",
       "      <td>Female</td>\n",
       "      <td>0</td>\n",
       "      <td>No</td>\n",
       "      <td>No</td>\n",
       "      <td>2</td>\n",
       "      <td>Yes</td>\n",
       "      <td>No</td>\n",
       "      <td>Fiber optic</td>\n",
       "      <td>No</td>\n",
       "      <td>No</td>\n",
       "      <td>No</td>\n",
       "      <td>No</td>\n",
       "      <td>No</td>\n",
       "      <td>No</td>\n",
       "      <td>Month-to-month</td>\n",
       "      <td>Yes</td>\n",
       "      <td>Electronic check</td>\n",
       "      <td>70.70</td>\n",
       "      <td>151.65</td>\n",
       "      <td>Yes</td>\n",
       "    </tr>\n",
       "  </tbody>\n",
       "</table>\n",
       "</div>"
      ],
      "text/plain": [
       "   customerID  gender  SeniorCitizen Partner Dependents  tenure PhoneService  \\\n",
       "0  7590-VHVEG  Female              0     Yes         No       1           No   \n",
       "1  5575-GNVDE    Male              0      No         No      34          Yes   \n",
       "2  3668-QPYBK    Male              0      No         No       2          Yes   \n",
       "3  7795-CFOCW    Male              0      No         No      45           No   \n",
       "4  9237-HQITU  Female              0      No         No       2          Yes   \n",
       "\n",
       "      MultipleLines InternetService OnlineSecurity OnlineBackup  \\\n",
       "0  No phone service             DSL             No          Yes   \n",
       "1                No             DSL            Yes           No   \n",
       "2                No             DSL            Yes          Yes   \n",
       "3  No phone service             DSL            Yes           No   \n",
       "4                No     Fiber optic             No           No   \n",
       "\n",
       "  DeviceProtection TechSupport StreamingTV StreamingMovies        Contract  \\\n",
       "0               No          No          No              No  Month-to-month   \n",
       "1              Yes          No          No              No        One year   \n",
       "2               No          No          No              No  Month-to-month   \n",
       "3              Yes         Yes          No              No        One year   \n",
       "4               No          No          No              No  Month-to-month   \n",
       "\n",
       "  PaperlessBilling              PaymentMethod  MonthlyCharges TotalCharges  \\\n",
       "0              Yes           Electronic check           29.85        29.85   \n",
       "1               No               Mailed check           56.95       1889.5   \n",
       "2              Yes               Mailed check           53.85       108.15   \n",
       "3               No  Bank transfer (automatic)           42.30      1840.75   \n",
       "4              Yes           Electronic check           70.70       151.65   \n",
       "\n",
       "  Churn  \n",
       "0    No  \n",
       "1    No  \n",
       "2   Yes  \n",
       "3    No  \n",
       "4   Yes  "
      ]
     },
     "execution_count": 2,
     "metadata": {},
     "output_type": "execute_result"
    }
   ],
   "source": [
    "pd.set_option('display.max_columns', None)\n",
    "dataFrame = pd.read_csv(\"data/telco.csv\", sep=\";\")\n",
    "dataFrame.head()"
   ]
  },
  {
   "cell_type": "markdown",
   "id": "18fee7d5-8b86-41f6-a179-149ae2b51d77",
   "metadata": {},
   "source": [
    "Action rules"
   ]
  },
  {
   "cell_type": "code",
   "execution_count": 4,
   "id": "5125f54b-8c7a-4253-9bc0-159013b6bc24",
   "metadata": {},
   "outputs": [],
   "source": [
    "from action_rules import ActionRules\n",
    "# Parameters\n",
    "stable_attributes = [\"gender\", \"SeniorCitizen\", \"Partner\"]\n",
    "flexible_attributes = [\"PhoneService\", \n",
    "                       \"InternetService\", \n",
    "                       \"OnlineSecurity\", \n",
    "                       \"DeviceProtection\", \n",
    "                       \"TechSupport\",\n",
    "                       \"StreamingTV\"]\n",
    "target = 'Churn'\n",
    "min_stable_attributes = 1\n",
    "min_flexible_attributes = 1 #min 1\n",
    "min_undesired_support = 4\n",
    "min_undesired_confidence = 0.6\n",
    "min_desired_support = 4\n",
    "min_desired_confidence = 0.6\n",
    "undesired_state = 'Yes'\n",
    "desired_state = 'No'\n",
    "# Action Rules Mining\n",
    "action_rules = ActionRules(min_stable_attributes, min_flexible_attributes, min_undesired_support, min_undesired_confidence, min_desired_support,min_desired_confidence, verbose=False)"
   ]
  },
  {
   "cell_type": "code",
   "execution_count": 5,
   "id": "1920619d-e970-4b07-a0ec-04a2e51b4f54",
   "metadata": {},
   "outputs": [],
   "source": [
    "action_rules.fit(\n",
    "    dataFrame, \n",
    "    stable_attributes, \n",
    "    flexible_attributes, \n",
    "    target, \n",
    "    undesired_state,\n",
    "    desired_state, \n",
    "    False\n",
    ")"
   ]
  },
  {
   "cell_type": "code",
   "execution_count": 6,
   "id": "103c2c4b-ac1f-4c03-b2ca-b572f12b8371",
   "metadata": {},
   "outputs": [
    {
     "data": {
      "text/plain": [
       "5170"
      ]
     },
     "execution_count": 6,
     "metadata": {},
     "output_type": "execute_result"
    }
   ],
   "source": [
    "# Count action rules\n",
    "len(action_rules.get_rules().get_ar_notation())"
   ]
  },
  {
   "cell_type": "code",
   "execution_count": 7,
   "id": "b2e6a9c9-2089-4b66-965e-47be6ee8f3b1",
   "metadata": {},
   "outputs": [
    {
     "name": "stdout",
     "output_type": "stream",
     "text": [
      "19.2 s ± 121 ms per loop (mean ± std. dev. of 7 runs, 1 loop each)\n"
     ]
    }
   ],
   "source": [
    "%timeit action_rules.fit(dataFrame, stable_attributes, flexible_attributes, target, undesired_state, desired_state, False)"
   ]
  },
  {
   "cell_type": "markdown",
   "id": "9b3a8a50-74da-41e2-82de-084cef618f0d",
   "metadata": {},
   "source": [
    "## Cudf"
   ]
  },
  {
   "cell_type": "raw",
   "id": "72ee549e-dba0-44c3-b695-23ed252ae575",
   "metadata": {},
   "source": [
    "import cudf"
   ]
  },
  {
   "cell_type": "raw",
   "id": "92e4fb3d-bd17-4b86-b249-a3289fc2e98e",
   "metadata": {},
   "source": [
    "dataFrame = cudf.read_csv(\"data/telco.csv\", sep=\";\")\n",
    "dataFrame.head()"
   ]
  },
  {
   "cell_type": "code",
   "execution_count": null,
   "id": "9c9b1971-7512-4d94-af80-2409cc5bff81",
   "metadata": {},
   "outputs": [],
   "source": [
    "from action_rules import ActionRules\n",
    "# Parameters\n",
    "stable_attributes = [\"gender\", \"SeniorCitizen\", \"Partner\"]\n",
    "flexible_attributes = [\"PhoneService\", \n",
    "                       \"InternetService\", \n",
    "                       \"OnlineSecurity\", \n",
    "                       \"DeviceProtection\", \n",
    "                       \"TechSupport\",\n",
    "                       \"StreamingTV\"]\n",
    "target = 'Churn'\n",
    "min_stable_attributes = 1\n",
    "min_flexible_attributes = 1 #min 1\n",
    "min_undesired_support = 4\n",
    "min_undesired_confidence = 0.6\n",
    "min_desired_support = 4\n",
    "min_desired_confidence = 0.6\n",
    "undesired_state = 'Yes'\n",
    "desired_state = 'No'\n",
    "# Action Rules Mining\n",
    "action_rules = ActionRules(min_stable_attributes, min_flexible_attributes, min_undesired_support, min_undesired_confidence, min_desired_support,min_desired_confidence, verbose=False)"
   ]
  },
  {
   "cell_type": "code",
   "execution_count": null,
   "id": "66ce7128-1eff-4018-99d2-a7bbce6a64b9",
   "metadata": {},
   "outputs": [],
   "source": [
    "action_rules.fit(\n",
    "    dataFrame, \n",
    "    stable_attributes, \n",
    "    flexible_attributes, \n",
    "    target, \n",
    "    undesired_state,\n",
    "    desired_state, \n",
    "    True, # GPU Support\n",
    ")"
   ]
  },
  {
   "cell_type": "code",
   "execution_count": null,
   "id": "1493ccf5-d9c3-4c17-aa1e-cbbe642add8a",
   "metadata": {},
   "outputs": [],
   "source": [
    "%timeit action_rules.fit(dataFrame, stable_attributes, flexible_attributes, target, undesired_state, desired_state, True)"
   ]
  },
  {
   "cell_type": "code",
   "execution_count": 15,
   "id": "36b878fc-35f6-4e0d-9bbb-fd5d215c020e",
   "metadata": {},
   "outputs": [
    {
     "data": {
      "text/plain": [
       "5170"
      ]
     },
     "execution_count": 15,
     "metadata": {},
     "output_type": "execute_result"
    }
   ],
   "source": [
    "# Count action rules\n",
    "len(action_rules.get_rules().get_ar_notation())"
   ]
  },
  {
   "cell_type": "code",
   "execution_count": null,
   "id": "829842cb-bc34-4a26-8a44-51face7cb0a3",
   "metadata": {},
   "outputs": [],
   "source": [
    "for ar in action_rules.get_rules().get_ar_notation():\n",
    "    print(ar)\n",
    "    print()"
   ]
  },
  {
   "cell_type": "markdown",
   "id": "37ff9e60-7949-42ca-b715-a8f10c0f467c",
   "metadata": {},
   "source": [
    "# DEAR"
   ]
  },
  {
   "cell_type": "code",
   "execution_count": 8,
   "id": "287c7ad1-b6a4-4d63-b1d2-5c307ee153ed",
   "metadata": {},
   "outputs": [],
   "source": [
    "from actionrules.actionRulesDiscovery import ActionRulesDiscovery"
   ]
  },
  {
   "cell_type": "code",
   "execution_count": 9,
   "id": "03c014bd-2ac2-4e83-8501-9365b5d16ab3",
   "metadata": {},
   "outputs": [
    {
     "name": "stderr",
     "output_type": "stream",
     "text": [
      "/home/lukas/anaconda3/envs/action_rules/lib/python3.12/site-packages/actionrules/decisions/decisions.py:81: FutureWarning: DataFrame.applymap has been deprecated. Use DataFrame.map instead.\n",
      "  self.data = self.data.applymap(str)\n"
     ]
    }
   ],
   "source": [
    "actionRulesDiscovery = ActionRulesDiscovery()\n",
    "actionRulesDiscovery.load_pandas(dataFrame)"
   ]
  },
  {
   "cell_type": "code",
   "execution_count": 10,
   "id": "307b8990-c338-42ae-b0cf-1f94044302a1",
   "metadata": {},
   "outputs": [],
   "source": [
    "actionRulesDiscovery.fit(stable_attributes = [\"gender\", \"SeniorCitizen\", \"Partner\"],\n",
    "            flexible_attributes  = [\"PhoneService\", \n",
    "                                    \"InternetService\", \n",
    "                                    \"OnlineSecurity\", \n",
    "                                    \"DeviceProtection\", \n",
    "                                    \"TechSupport\",\n",
    "                                    \"StreamingTV\",\n",
    "                                   ],\n",
    "            consequent = \"Churn\",\n",
    "            conf=60,\n",
    "            supp=(4/len(dataFrame))*100,\n",
    "            desired_changes = [[\"Yes\", \"No\"]],\n",
    "            is_nan=False,\n",
    "            is_reduction=True,\n",
    "            min_stable_attributes=1,\n",
    "            min_flexible_attributes=1,\n",
    "            is_strict_flexible = False)"
   ]
  },
  {
   "cell_type": "code",
   "execution_count": 11,
   "id": "8039b487-c13d-4d60-a0b3-b3a93c1365f6",
   "metadata": {},
   "outputs": [
    {
     "data": {
      "text/plain": [
       "5129"
      ]
     },
     "execution_count": 11,
     "metadata": {},
     "output_type": "execute_result"
    }
   ],
   "source": [
    "len(actionRulesDiscovery.get_action_rules())"
   ]
  },
  {
   "cell_type": "code",
   "execution_count": 12,
   "id": "3832ed3a-8880-48bf-8e0a-71928be7274a",
   "metadata": {},
   "outputs": [],
   "source": [
    "def timeit():\n",
    "    actionRulesDiscovery = ActionRulesDiscovery()\n",
    "    actionRulesDiscovery.load_pandas(dataFrame)\n",
    "    actionRulesDiscovery.fit(stable_attributes = [\"gender\", \"SeniorCitizen\", \"Partner\"],\n",
    "                flexible_attributes  = [\"PhoneService\", \n",
    "                                        \"InternetService\", \n",
    "                                        \"OnlineSecurity\", \n",
    "                                        \"DeviceProtection\", \n",
    "                                        \"TechSupport\",\n",
    "                                        \"StreamingTV\",\n",
    "                                       ],\n",
    "                consequent = \"Churn\",\n",
    "                conf=60,\n",
    "                supp=4,\n",
    "                desired_changes = [[\"Yes\", \"No\"]],\n",
    "                is_nan=False,\n",
    "                is_reduction=True,\n",
    "                min_stable_attributes=1,\n",
    "                min_flexible_attributes=1)"
   ]
  },
  {
   "cell_type": "code",
   "execution_count": 13,
   "id": "fb636744-c702-48b4-a469-b4b0297daeb4",
   "metadata": {},
   "outputs": [
    {
     "name": "stderr",
     "output_type": "stream",
     "text": [
      "/home/lukas/anaconda3/envs/action_rules/lib/python3.12/site-packages/actionrules/decisions/decisions.py:81: FutureWarning: DataFrame.applymap has been deprecated. Use DataFrame.map instead.\n",
      "  self.data = self.data.applymap(str)\n",
      "/home/lukas/anaconda3/envs/action_rules/lib/python3.12/site-packages/actionrules/decisions/decisions.py:81: FutureWarning: DataFrame.applymap has been deprecated. Use DataFrame.map instead.\n",
      "  self.data = self.data.applymap(str)\n",
      "/home/lukas/anaconda3/envs/action_rules/lib/python3.12/site-packages/actionrules/decisions/decisions.py:81: FutureWarning: DataFrame.applymap has been deprecated. Use DataFrame.map instead.\n",
      "  self.data = self.data.applymap(str)\n",
      "/home/lukas/anaconda3/envs/action_rules/lib/python3.12/site-packages/actionrules/decisions/decisions.py:81: FutureWarning: DataFrame.applymap has been deprecated. Use DataFrame.map instead.\n",
      "  self.data = self.data.applymap(str)\n",
      "/home/lukas/anaconda3/envs/action_rules/lib/python3.12/site-packages/actionrules/decisions/decisions.py:81: FutureWarning: DataFrame.applymap has been deprecated. Use DataFrame.map instead.\n",
      "  self.data = self.data.applymap(str)\n",
      "/home/lukas/anaconda3/envs/action_rules/lib/python3.12/site-packages/actionrules/decisions/decisions.py:81: FutureWarning: DataFrame.applymap has been deprecated. Use DataFrame.map instead.\n",
      "  self.data = self.data.applymap(str)\n",
      "/home/lukas/anaconda3/envs/action_rules/lib/python3.12/site-packages/actionrules/decisions/decisions.py:81: FutureWarning: DataFrame.applymap has been deprecated. Use DataFrame.map instead.\n",
      "  self.data = self.data.applymap(str)\n",
      "/home/lukas/anaconda3/envs/action_rules/lib/python3.12/site-packages/actionrules/decisions/decisions.py:81: FutureWarning: DataFrame.applymap has been deprecated. Use DataFrame.map instead.\n",
      "  self.data = self.data.applymap(str)\n"
     ]
    },
    {
     "name": "stdout",
     "output_type": "stream",
     "text": [
      "400 ms ± 8.09 ms per loop (mean ± std. dev. of 7 runs, 1 loop each)\n"
     ]
    }
   ],
   "source": [
    "%timeit timeit()"
   ]
  },
  {
   "cell_type": "code",
   "execution_count": 15,
   "id": "9bed1219-0179-42ed-a048-9fe3bb6727d8",
   "metadata": {},
   "outputs": [
    {
     "name": "stdout",
     "output_type": "stream",
     "text": [
      "r = [(Partner: no) ∧  (DeviceProtection: no)  ∧  (TechSupport: no)  ∧  (PhoneService: yes)  ∧ (InternetService: fiber optic → dsl)  ∧  (OnlineSecurity: no) ] ⇒ [Churn: Yes → No] with support: 0.02413744143120829, confidence: 0.38748058774339983, uplift: 0.026471157693648106.\n",
      " \n",
      "r = [(Partner: no) ∧ (DeviceProtection: no → yes)  ∧  (TechSupport: no)  ∧  (PhoneService: yes)  ∧ (InternetService: fiber optic → dsl)  ∧  (OnlineSecurity: no) ] ⇒ [Churn: Yes → No] with support: 0.006247337782195088, confidence: 0.45212296159065946, uplift: 0.03761437353214331.\n",
      " \n",
      "r = [(Partner: no) ∧  (DeviceProtection: no)  ∧ (TechSupport: no → yes)  ∧  (PhoneService: yes)  ∧  (InternetService: fiber optic)  ∧  (OnlineSecurity: no) ] ⇒ [Churn: Yes → No] with support: 0.009229021723697288, confidence: 0.37724485326325014, uplift: 0.024706695905048884.\n",
      " \n",
      "r = [(Partner: no) ∧ (DeviceProtection: no → yes)  ∧ (TechSupport: no → yes)  ∧  (PhoneService: yes)  ∧  (InternetService: fiber optic)  ∧  (OnlineSecurity: no) ] ⇒ [Churn: Yes → No] with support: 0.011216811018032088, confidence: 0.43436613873711877, uplift: 0.03455340751424209.\n",
      " \n",
      "r = [(Partner: no) ∧  (DeviceProtection: no)  ∧ (TechSupport: no → yes)  ∧  (PhoneService: yes)  ∧ (InternetService: fiber optic → dsl)  ∧  (OnlineSecurity: no) ] ⇒ [Churn: Yes → No] with support: 0.012068720715604145, confidence: 0.47998721454700427, uplift: 0.042417683905686177.\n",
      " \n",
      "r = [(Partner: no) ∧ (DeviceProtection: no → yes)  ∧ (TechSupport: no → yes)  ∧  (PhoneService: yes)  ∧ (InternetService: fiber optic → dsl)  ∧  (OnlineSecurity: no) ] ⇒ [Churn: Yes → No] with support: 0.00880306687491126, confidence: 0.5397503285151117, uplift: 0.052719800590026344.\n",
      " \n",
      "r = [(Partner: no) ∧  (DeviceProtection: no)  ∧  (TechSupport: no)  ∧  (PhoneService: yes)  ∧  (InternetService: fiber optic)  ∧ (OnlineSecurity: no → yes) ] ⇒ [Churn: Yes → No] with support: 0.011074826068436745, confidence: 0.38496797624344264, uplift: 0.02603802737067351.\n",
      " \n",
      "r = [(Partner: no) ∧ (DeviceProtection: no → yes)  ∧  (TechSupport: no)  ∧  (PhoneService: yes)  ∧  (InternetService: fiber optic)  ∧ (OnlineSecurity: no → yes) ] ⇒ [Churn: Yes → No] with support: 0.007667187278148516, confidence: 0.49054447808947044, uplift: 0.044237571686966404.\n",
      " \n",
      "r = [(Partner: no) ∧  (DeviceProtection: no)  ∧  (TechSupport: no)  ∧  (PhoneService: yes)  ∧ (InternetService: fiber optic → dsl)  ∧ (OnlineSecurity: no → yes) ] ⇒ [Churn: Yes → No] with support: 0.012636660513985518, confidence: 0.4687883037577712, uplift: 0.040487187349737566.\n",
      " \n",
      "r = [(Partner: no) ∧ (DeviceProtection: no → yes)  ∧  (TechSupport: no)  ∧  (PhoneService: yes)  ∧ (InternetService: fiber optic → dsl)  ∧ (OnlineSecurity: no → yes) ] ⇒ [Churn: Yes → No] with support: 0.007099247479767145, confidence: 0.5698243937402939, uplift: 0.05790404398951893.\n",
      " \n",
      "r = [(Partner: no) ∧  (DeviceProtection: no)  ∧ (TechSupport: no → yes)  ∧  (PhoneService: yes)  ∧  (InternetService: fiber optic)  ∧ (OnlineSecurity: no → yes) ] ⇒ [Churn: Yes → No] with support: 0.004543518387050973, confidence: 0.45585951499223515, uplift: 0.038258490054599664.\n",
      " \n",
      "r = [(Partner: no) ∧ (DeviceProtection: no → yes)  ∧ (TechSupport: no → yes)  ∧  (PhoneService: yes)  ∧  (InternetService: fiber optic)  ∧ (OnlineSecurity: no → yes) ] ⇒ [Churn: Yes → No] with support: 0.010080931421269345, confidence: 0.5298010137037732, uplift: 0.05100471254808894.\n",
      " \n",
      "r = [(Partner: no) ∧  (DeviceProtection: no)  ∧ (TechSupport: no → yes)  ∧  (PhoneService: yes)  ∧ (InternetService: fiber optic → dsl)  ∧ (OnlineSecurity: no → yes) ] ⇒ [Churn: Yes → No] with support: 0.010080931421269345, confidence: 0.5427229896477677, uplift: 0.05323223543182472.\n",
      " \n",
      "r = [(Partner: no) ∧ (DeviceProtection: no → yes)  ∧ (TechSupport: no → yes)  ∧  (PhoneService: yes)  ∧ (InternetService: fiber optic → dsl)  ∧ (OnlineSecurity: no → yes) ] ⇒ [Churn: Yes → No] with support: 0.014056510009938947, confidence: 0.5799427708254019, uplift: 0.05964827541364727.\n",
      " \n",
      "r = [(Partner: no) ∧ (DeviceProtection: no → no internet service)  ∧ (TechSupport: no → no internet service)  ∧  (PhoneService: yes)  ∧ (InternetService: fiber optic → no)  ∧ (OnlineSecurity: no → no internet service) ] ⇒ [Churn: Yes → No] with support: 0.06772682095697856, confidence: 0.5599898610564512, uplift: 0.05620874238092184.\n",
      " \n",
      "r = [(Partner: no) ∧  (DeviceProtection: no)  ∧ (TechSupport: no → yes)  ∧ (PhoneService: yes → no)  ∧ (InternetService: fiber optic → dsl)  ∧  (OnlineSecurity: no) ] ⇒ [Churn: Yes → No] with support: 0.003975578588669601, confidence: 0.5014454664914586, uplift: 0.04611671162856738.\n",
      " \n",
      "r = [(Partner: no) ∧ (DeviceProtection: no → yes)  ∧ (TechSupport: no → yes)  ∧ (PhoneService: yes → no)  ∧ (InternetService: fiber optic → dsl)  ∧  (OnlineSecurity: no) ] ⇒ [Churn: Yes → No] with support: 0.0035496237398835724, confidence: 0.5803766973280771, uplift: 0.05972307676127071.\n",
      " \n",
      "r = [(Partner: no) ∧  (DeviceProtection: no)  ∧  (TechSupport: no)  ∧ (PhoneService: yes → no)  ∧ (InternetService: fiber optic → dsl)  ∧ (OnlineSecurity: no → yes) ] ⇒ [Churn: Yes → No] with support: 0.0034076387902882295, confidence: 0.48526980628205674, uplift: 0.043328310424901414.\n",
      " \n",
      "r = [(Partner: no) ∧ (DeviceProtection: no → yes)  ∧  (TechSupport: no)  ∧ (PhoneService: yes → no)  ∧ (InternetService: fiber optic → dsl)  ∧ (OnlineSecurity: no → yes) ] ⇒ [Churn: Yes → No] with support: 0.002413744143120829, confidence: 0.6268068331143233, uplift: 0.06772682095697856.\n",
      " \n",
      "r = [(Partner: no) ∧  (DeviceProtection: no)  ∧ (TechSupport: no → yes)  ∧ (PhoneService: yes → no)  ∧ (InternetService: fiber optic → dsl)  ∧ (OnlineSecurity: no → yes) ] ⇒ [Churn: Yes → No] with support: 0.004827488286241658, confidence: 0.5759846574564053, uplift: 0.058965965823838895.\n",
      " \n"
     ]
    }
   ],
   "source": [
    "for rule in actionRulesDiscovery.get_action_rules_representation()[:20]:\n",
    "    print(rule)\n",
    "    print(\" \")"
   ]
  },
  {
   "cell_type": "code",
   "execution_count": null,
   "id": "db2c5652-e3a9-445f-b6e2-ecc496abfa1d",
   "metadata": {},
   "outputs": [],
   "source": []
  },
  {
   "cell_type": "code",
   "execution_count": null,
   "id": "0563fbc8-b01e-4587-abaf-5b9106b8a0c7",
   "metadata": {},
   "outputs": [],
   "source": []
  },
  {
   "cell_type": "code",
   "execution_count": null,
   "id": "6b8e5dab-63bf-40e0-8de1-97355bc42d9c",
   "metadata": {},
   "outputs": [],
   "source": []
  },
  {
   "cell_type": "code",
   "execution_count": null,
   "id": "b638633c-55b4-4e2e-b831-c14e0699199d",
   "metadata": {},
   "outputs": [],
   "source": []
  },
  {
   "cell_type": "code",
   "execution_count": null,
   "id": "f1e10651-b870-45bb-9a94-1ff2d0f4feca",
   "metadata": {},
   "outputs": [],
   "source": []
  },
  {
   "cell_type": "code",
   "execution_count": null,
   "id": "082bd259-eb94-4527-8ee2-31f2ee87fb9c",
   "metadata": {},
   "outputs": [],
   "source": []
  },
  {
   "cell_type": "code",
   "execution_count": null,
   "id": "6198fc06-d8e8-4b14-b8bd-4f3b8546b1b5",
   "metadata": {},
   "outputs": [],
   "source": []
  }
 ],
 "metadata": {
  "kernelspec": {
   "display_name": "Python 3 (ipykernel)",
   "language": "python",
   "name": "python3"
  },
  "language_info": {
   "codemirror_mode": {
    "name": "ipython",
    "version": 3
   },
   "file_extension": ".py",
   "mimetype": "text/x-python",
   "name": "python",
   "nbconvert_exporter": "python",
   "pygments_lexer": "ipython3",
   "version": "3.12.3"
  }
 },
 "nbformat": 4,
 "nbformat_minor": 5
}
