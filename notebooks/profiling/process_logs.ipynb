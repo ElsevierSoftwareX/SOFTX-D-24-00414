{
 "cells": [
  {
   "cell_type": "markdown",
   "id": "11f91db8-78e8-47e9-9e27-e4f01a0ddf62",
   "metadata": {},
   "source": [
    "# Profiling\n",
    "\n",
    "Scalene is used for profiling (10x per each setup):"
   ]
  },
  {
   "cell_type": "code",
   "execution_count": 1,
   "id": "b9e69b79-095b-4cb0-b13d-ae4af5727fd6",
   "metadata": {},
   "outputs": [],
   "source": [
    "test_files = [\n",
    "    ['CPU, dense matrix', 'pandas_cpu_array.py', 'pandas_cpu_array'],\n",
    "    ['CPU, sparse matrix', 'pandas_cpu_sparse.py', 'pandas_cpu_sparse'],\n",
    "    ['GPU, dense matrix', 'pandas_gpu_array.py', 'pandas_gpu_array'],\n",
    "    ['GPU, sparse matrix', 'pandas_gpu_sparse.py', 'pandas_gpu_sparse']\n",
    "]"
   ]
  },
  {
   "cell_type": "code",
   "execution_count": 6,
   "id": "25fb5fab-f8d5-4b8c-ba41-764736ab0a7f",
   "metadata": {},
   "outputs": [
    {
     "name": "stdout",
     "output_type": "stream",
     "text": [
      "CPU, dense matrix\n",
      "0\n",
      "Number of action rules: 4435\n",
      "1\n"
     ]
    },
    {
     "name": "stderr",
     "output_type": "stream",
     "text": [
      "NOTE: The GPU is currently running in a mode that can reduce Scalene's accuracy when reporting GPU utilization.\n",
      "Run once as Administrator or root (i.e., prefixed with `sudo`) to enable per-process GPU accounting.\n"
     ]
    },
    {
     "name": "stdout",
     "output_type": "stream",
     "text": [
      "Number of action rules: 4435\n",
      "2\n"
     ]
    },
    {
     "name": "stderr",
     "output_type": "stream",
     "text": [
      "NOTE: The GPU is currently running in a mode that can reduce Scalene's accuracy when reporting GPU utilization.\n",
      "Run once as Administrator or root (i.e., prefixed with `sudo`) to enable per-process GPU accounting.\n"
     ]
    },
    {
     "name": "stdout",
     "output_type": "stream",
     "text": [
      "Number of action rules: 4435\n",
      "3\n"
     ]
    },
    {
     "name": "stderr",
     "output_type": "stream",
     "text": [
      "NOTE: The GPU is currently running in a mode that can reduce Scalene's accuracy when reporting GPU utilization.\n",
      "Run once as Administrator or root (i.e., prefixed with `sudo`) to enable per-process GPU accounting.\n"
     ]
    },
    {
     "name": "stdout",
     "output_type": "stream",
     "text": [
      "Number of action rules: 4435\n",
      "4\n"
     ]
    },
    {
     "name": "stderr",
     "output_type": "stream",
     "text": [
      "NOTE: The GPU is currently running in a mode that can reduce Scalene's accuracy when reporting GPU utilization.\n",
      "Run once as Administrator or root (i.e., prefixed with `sudo`) to enable per-process GPU accounting.\n"
     ]
    },
    {
     "name": "stdout",
     "output_type": "stream",
     "text": [
      "Number of action rules: 4435\n",
      "5\n"
     ]
    },
    {
     "name": "stderr",
     "output_type": "stream",
     "text": [
      "NOTE: The GPU is currently running in a mode that can reduce Scalene's accuracy when reporting GPU utilization.\n",
      "Run once as Administrator or root (i.e., prefixed with `sudo`) to enable per-process GPU accounting.\n"
     ]
    },
    {
     "name": "stdout",
     "output_type": "stream",
     "text": [
      "Number of action rules: 4435\n",
      "6\n"
     ]
    },
    {
     "name": "stderr",
     "output_type": "stream",
     "text": [
      "NOTE: The GPU is currently running in a mode that can reduce Scalene's accuracy when reporting GPU utilization.\n",
      "Run once as Administrator or root (i.e., prefixed with `sudo`) to enable per-process GPU accounting.\n"
     ]
    },
    {
     "name": "stdout",
     "output_type": "stream",
     "text": [
      "Number of action rules: 4435\n",
      "7\n"
     ]
    },
    {
     "name": "stderr",
     "output_type": "stream",
     "text": [
      "NOTE: The GPU is currently running in a mode that can reduce Scalene's accuracy when reporting GPU utilization.\n",
      "Run once as Administrator or root (i.e., prefixed with `sudo`) to enable per-process GPU accounting.\n"
     ]
    },
    {
     "name": "stdout",
     "output_type": "stream",
     "text": [
      "Number of action rules: 4435\n",
      "8\n"
     ]
    },
    {
     "name": "stderr",
     "output_type": "stream",
     "text": [
      "NOTE: The GPU is currently running in a mode that can reduce Scalene's accuracy when reporting GPU utilization.\n",
      "Run once as Administrator or root (i.e., prefixed with `sudo`) to enable per-process GPU accounting.\n"
     ]
    },
    {
     "name": "stdout",
     "output_type": "stream",
     "text": [
      "Number of action rules: 4435\n",
      "9\n"
     ]
    },
    {
     "name": "stderr",
     "output_type": "stream",
     "text": [
      "NOTE: The GPU is currently running in a mode that can reduce Scalene's accuracy when reporting GPU utilization.\n",
      "Run once as Administrator or root (i.e., prefixed with `sudo`) to enable per-process GPU accounting.\n"
     ]
    },
    {
     "name": "stdout",
     "output_type": "stream",
     "text": [
      "Number of action rules: 4435\n",
      "CPU, sparse matrix\n",
      "0\n"
     ]
    },
    {
     "name": "stderr",
     "output_type": "stream",
     "text": [
      "NOTE: The GPU is currently running in a mode that can reduce Scalene's accuracy when reporting GPU utilization.\n",
      "Run once as Administrator or root (i.e., prefixed with `sudo`) to enable per-process GPU accounting.\n"
     ]
    },
    {
     "name": "stdout",
     "output_type": "stream",
     "text": [
      "Number of action rules: 4435\n"
     ]
    },
    {
     "name": "stderr",
     "output_type": "stream",
     "text": [
      "NOTE: The GPU is currently running in a mode that can reduce Scalene's accuracy when reporting GPU utilization.\n",
      "Run once as Administrator or root (i.e., prefixed with `sudo`) to enable per-process GPU accounting.\n"
     ]
    },
    {
     "name": "stdout",
     "output_type": "stream",
     "text": [
      "1\n",
      "Number of action rules: 4435\n"
     ]
    },
    {
     "name": "stderr",
     "output_type": "stream",
     "text": [
      "NOTE: The GPU is currently running in a mode that can reduce Scalene's accuracy when reporting GPU utilization.\n",
      "Run once as Administrator or root (i.e., prefixed with `sudo`) to enable per-process GPU accounting.\n"
     ]
    },
    {
     "name": "stdout",
     "output_type": "stream",
     "text": [
      "2\n",
      "Number of action rules: 4435\n"
     ]
    },
    {
     "name": "stderr",
     "output_type": "stream",
     "text": [
      "NOTE: The GPU is currently running in a mode that can reduce Scalene's accuracy when reporting GPU utilization.\n",
      "Run once as Administrator or root (i.e., prefixed with `sudo`) to enable per-process GPU accounting.\n"
     ]
    },
    {
     "name": "stdout",
     "output_type": "stream",
     "text": [
      "3\n",
      "Number of action rules: 4435\n"
     ]
    },
    {
     "name": "stderr",
     "output_type": "stream",
     "text": [
      "NOTE: The GPU is currently running in a mode that can reduce Scalene's accuracy when reporting GPU utilization.\n",
      "Run once as Administrator or root (i.e., prefixed with `sudo`) to enable per-process GPU accounting.\n"
     ]
    },
    {
     "name": "stdout",
     "output_type": "stream",
     "text": [
      "4\n",
      "Number of action rules: 4435\n"
     ]
    },
    {
     "name": "stderr",
     "output_type": "stream",
     "text": [
      "NOTE: The GPU is currently running in a mode that can reduce Scalene's accuracy when reporting GPU utilization.\n",
      "Run once as Administrator or root (i.e., prefixed with `sudo`) to enable per-process GPU accounting.\n"
     ]
    },
    {
     "name": "stdout",
     "output_type": "stream",
     "text": [
      "5\n",
      "Number of action rules: 4435\n"
     ]
    },
    {
     "name": "stderr",
     "output_type": "stream",
     "text": [
      "NOTE: The GPU is currently running in a mode that can reduce Scalene's accuracy when reporting GPU utilization.\n",
      "Run once as Administrator or root (i.e., prefixed with `sudo`) to enable per-process GPU accounting.\n"
     ]
    },
    {
     "name": "stdout",
     "output_type": "stream",
     "text": [
      "6\n",
      "Number of action rules: 4435\n"
     ]
    },
    {
     "name": "stderr",
     "output_type": "stream",
     "text": [
      "NOTE: The GPU is currently running in a mode that can reduce Scalene's accuracy when reporting GPU utilization.\n",
      "Run once as Administrator or root (i.e., prefixed with `sudo`) to enable per-process GPU accounting.\n"
     ]
    },
    {
     "name": "stdout",
     "output_type": "stream",
     "text": [
      "7\n",
      "Number of action rules: 4435\n"
     ]
    },
    {
     "name": "stderr",
     "output_type": "stream",
     "text": [
      "NOTE: The GPU is currently running in a mode that can reduce Scalene's accuracy when reporting GPU utilization.\n",
      "Run once as Administrator or root (i.e., prefixed with `sudo`) to enable per-process GPU accounting.\n"
     ]
    },
    {
     "name": "stdout",
     "output_type": "stream",
     "text": [
      "8\n",
      "Number of action rules: 4435\n"
     ]
    },
    {
     "name": "stderr",
     "output_type": "stream",
     "text": [
      "NOTE: The GPU is currently running in a mode that can reduce Scalene's accuracy when reporting GPU utilization.\n",
      "Run once as Administrator or root (i.e., prefixed with `sudo`) to enable per-process GPU accounting.\n"
     ]
    },
    {
     "name": "stdout",
     "output_type": "stream",
     "text": [
      "9\n",
      "Number of action rules: 4435\n"
     ]
    },
    {
     "name": "stderr",
     "output_type": "stream",
     "text": [
      "NOTE: The GPU is currently running in a mode that can reduce Scalene's accuracy when reporting GPU utilization.\n",
      "Run once as Administrator or root (i.e., prefixed with `sudo`) to enable per-process GPU accounting.\n"
     ]
    },
    {
     "name": "stdout",
     "output_type": "stream",
     "text": [
      "GPU, dense matrix\n",
      "0\n"
     ]
    },
    {
     "name": "stderr",
     "output_type": "stream",
     "text": [
      "/home/jupyter-xsykl04@vse.cz/.local/lib/python3.10/site-packages/cupy/cuda/compiler.py:233: PerformanceWarning: Jitify is performing a one-time only warm-up to populate the persistent cache, this may take a few seconds and will be improved in a future release...\n",
      "  jitify._init_module()\n"
     ]
    },
    {
     "name": "stdout",
     "output_type": "stream",
     "text": [
      "Number of action rules: 4435\n"
     ]
    },
    {
     "name": "stderr",
     "output_type": "stream",
     "text": [
      "NOTE: The GPU is currently running in a mode that can reduce Scalene's accuracy when reporting GPU utilization.\n",
      "Run once as Administrator or root (i.e., prefixed with `sudo`) to enable per-process GPU accounting.\n"
     ]
    },
    {
     "name": "stdout",
     "output_type": "stream",
     "text": [
      "1\n",
      "Number of action rules: 4435\n"
     ]
    },
    {
     "name": "stderr",
     "output_type": "stream",
     "text": [
      "NOTE: The GPU is currently running in a mode that can reduce Scalene's accuracy when reporting GPU utilization.\n",
      "Run once as Administrator or root (i.e., prefixed with `sudo`) to enable per-process GPU accounting.\n"
     ]
    },
    {
     "name": "stdout",
     "output_type": "stream",
     "text": [
      "2\n",
      "Number of action rules: 4435\n"
     ]
    },
    {
     "name": "stderr",
     "output_type": "stream",
     "text": [
      "NOTE: The GPU is currently running in a mode that can reduce Scalene's accuracy when reporting GPU utilization.\n",
      "Run once as Administrator or root (i.e., prefixed with `sudo`) to enable per-process GPU accounting.\n"
     ]
    },
    {
     "name": "stdout",
     "output_type": "stream",
     "text": [
      "3\n",
      "Number of action rules: 4435\n"
     ]
    },
    {
     "name": "stderr",
     "output_type": "stream",
     "text": [
      "NOTE: The GPU is currently running in a mode that can reduce Scalene's accuracy when reporting GPU utilization.\n",
      "Run once as Administrator or root (i.e., prefixed with `sudo`) to enable per-process GPU accounting.\n"
     ]
    },
    {
     "name": "stdout",
     "output_type": "stream",
     "text": [
      "4\n",
      "Number of action rules: 4435\n"
     ]
    },
    {
     "name": "stderr",
     "output_type": "stream",
     "text": [
      "NOTE: The GPU is currently running in a mode that can reduce Scalene's accuracy when reporting GPU utilization.\n",
      "Run once as Administrator or root (i.e., prefixed with `sudo`) to enable per-process GPU accounting.\n"
     ]
    },
    {
     "name": "stdout",
     "output_type": "stream",
     "text": [
      "5\n",
      "Number of action rules: 4435\n"
     ]
    },
    {
     "name": "stderr",
     "output_type": "stream",
     "text": [
      "NOTE: The GPU is currently running in a mode that can reduce Scalene's accuracy when reporting GPU utilization.\n",
      "Run once as Administrator or root (i.e., prefixed with `sudo`) to enable per-process GPU accounting.\n"
     ]
    },
    {
     "name": "stdout",
     "output_type": "stream",
     "text": [
      "6\n",
      "Number of action rules: 4435\n"
     ]
    },
    {
     "name": "stderr",
     "output_type": "stream",
     "text": [
      "NOTE: The GPU is currently running in a mode that can reduce Scalene's accuracy when reporting GPU utilization.\n",
      "Run once as Administrator or root (i.e., prefixed with `sudo`) to enable per-process GPU accounting.\n"
     ]
    },
    {
     "name": "stdout",
     "output_type": "stream",
     "text": [
      "7\n",
      "Number of action rules: 4435\n"
     ]
    },
    {
     "name": "stderr",
     "output_type": "stream",
     "text": [
      "NOTE: The GPU is currently running in a mode that can reduce Scalene's accuracy when reporting GPU utilization.\n",
      "Run once as Administrator or root (i.e., prefixed with `sudo`) to enable per-process GPU accounting.\n"
     ]
    },
    {
     "name": "stdout",
     "output_type": "stream",
     "text": [
      "8\n",
      "Number of action rules: 4435\n"
     ]
    },
    {
     "name": "stderr",
     "output_type": "stream",
     "text": [
      "NOTE: The GPU is currently running in a mode that can reduce Scalene's accuracy when reporting GPU utilization.\n",
      "Run once as Administrator or root (i.e., prefixed with `sudo`) to enable per-process GPU accounting.\n"
     ]
    },
    {
     "name": "stdout",
     "output_type": "stream",
     "text": [
      "9\n",
      "Number of action rules: 4435\n"
     ]
    },
    {
     "name": "stderr",
     "output_type": "stream",
     "text": [
      "NOTE: The GPU is currently running in a mode that can reduce Scalene's accuracy when reporting GPU utilization.\n",
      "Run once as Administrator or root (i.e., prefixed with `sudo`) to enable per-process GPU accounting.\n"
     ]
    },
    {
     "name": "stdout",
     "output_type": "stream",
     "text": [
      "GPU, sparse matrix\n",
      "0\n",
      "Number of action rules: 4435\n"
     ]
    },
    {
     "name": "stderr",
     "output_type": "stream",
     "text": [
      "NOTE: The GPU is currently running in a mode that can reduce Scalene's accuracy when reporting GPU utilization.\n",
      "Run once as Administrator or root (i.e., prefixed with `sudo`) to enable per-process GPU accounting.\n"
     ]
    },
    {
     "name": "stdout",
     "output_type": "stream",
     "text": [
      "1\n",
      "Number of action rules: 4435\n"
     ]
    },
    {
     "name": "stderr",
     "output_type": "stream",
     "text": [
      "NOTE: The GPU is currently running in a mode that can reduce Scalene's accuracy when reporting GPU utilization.\n",
      "Run once as Administrator or root (i.e., prefixed with `sudo`) to enable per-process GPU accounting.\n"
     ]
    },
    {
     "name": "stdout",
     "output_type": "stream",
     "text": [
      "2\n",
      "Number of action rules: 4435\n"
     ]
    },
    {
     "name": "stderr",
     "output_type": "stream",
     "text": [
      "NOTE: The GPU is currently running in a mode that can reduce Scalene's accuracy when reporting GPU utilization.\n",
      "Run once as Administrator or root (i.e., prefixed with `sudo`) to enable per-process GPU accounting.\n"
     ]
    },
    {
     "name": "stdout",
     "output_type": "stream",
     "text": [
      "3\n",
      "Number of action rules: 4435\n"
     ]
    },
    {
     "name": "stderr",
     "output_type": "stream",
     "text": [
      "NOTE: The GPU is currently running in a mode that can reduce Scalene's accuracy when reporting GPU utilization.\n",
      "Run once as Administrator or root (i.e., prefixed with `sudo`) to enable per-process GPU accounting.\n"
     ]
    },
    {
     "name": "stdout",
     "output_type": "stream",
     "text": [
      "4\n",
      "Number of action rules: 4435\n"
     ]
    },
    {
     "name": "stderr",
     "output_type": "stream",
     "text": [
      "NOTE: The GPU is currently running in a mode that can reduce Scalene's accuracy when reporting GPU utilization.\n",
      "Run once as Administrator or root (i.e., prefixed with `sudo`) to enable per-process GPU accounting.\n"
     ]
    },
    {
     "name": "stdout",
     "output_type": "stream",
     "text": [
      "5\n",
      "Number of action rules: 4435\n"
     ]
    },
    {
     "name": "stderr",
     "output_type": "stream",
     "text": [
      "NOTE: The GPU is currently running in a mode that can reduce Scalene's accuracy when reporting GPU utilization.\n",
      "Run once as Administrator or root (i.e., prefixed with `sudo`) to enable per-process GPU accounting.\n"
     ]
    },
    {
     "name": "stdout",
     "output_type": "stream",
     "text": [
      "6\n",
      "Number of action rules: 4435\n"
     ]
    },
    {
     "name": "stderr",
     "output_type": "stream",
     "text": [
      "NOTE: The GPU is currently running in a mode that can reduce Scalene's accuracy when reporting GPU utilization.\n",
      "Run once as Administrator or root (i.e., prefixed with `sudo`) to enable per-process GPU accounting.\n"
     ]
    },
    {
     "name": "stdout",
     "output_type": "stream",
     "text": [
      "7\n",
      "Number of action rules: 4435\n"
     ]
    },
    {
     "name": "stderr",
     "output_type": "stream",
     "text": [
      "NOTE: The GPU is currently running in a mode that can reduce Scalene's accuracy when reporting GPU utilization.\n",
      "Run once as Administrator or root (i.e., prefixed with `sudo`) to enable per-process GPU accounting.\n"
     ]
    },
    {
     "name": "stdout",
     "output_type": "stream",
     "text": [
      "8\n",
      "Number of action rules: 4435\n"
     ]
    },
    {
     "name": "stderr",
     "output_type": "stream",
     "text": [
      "NOTE: The GPU is currently running in a mode that can reduce Scalene's accuracy when reporting GPU utilization.\n",
      "Run once as Administrator or root (i.e., prefixed with `sudo`) to enable per-process GPU accounting.\n"
     ]
    },
    {
     "name": "stdout",
     "output_type": "stream",
     "text": [
      "9\n",
      "Number of action rules: 4435\n"
     ]
    },
    {
     "name": "stderr",
     "output_type": "stream",
     "text": [
      "NOTE: The GPU is currently running in a mode that can reduce Scalene's accuracy when reporting GPU utilization.\n",
      "Run once as Administrator or root (i.e., prefixed with `sudo`) to enable per-process GPU accounting.\n"
     ]
    }
   ],
   "source": [
    "# Start your shell script in the background\n",
    "import subprocess\n",
    "import os\n",
    "import cupy as cp\n",
    "repeat = range(10)\n",
    "for test_file in test_files:\n",
    "    print(test_file[0])\n",
    "    for i in repeat:\n",
    "        cp._default_memory_pool.free_all_blocks()\n",
    "        print(i)\n",
    "        # Get the directory where the Jupyter notebook is located\n",
    "        notebook_directory = os.getcwd()\n",
    "        outfile_path = f\"{notebook_directory}/{test_file[2]}/scalene_report_{i}.html\"\n",
    "        # Generate the output html file\n",
    "        subprocess.run([\"/home/jupyter-xsykl04@vse.cz/.local/bin/scalene\", \"--html\", f\"--outfile={outfile_path}\", f\"{notebook_directory}/{test_file[1]}\"])"
   ]
  },
  {
   "cell_type": "code",
   "execution_count": null,
   "id": "6f5a78ed-6bf8-4472-8cd4-54da0d1b0d47",
   "metadata": {},
   "outputs": [],
   "source": []
  }
 ],
 "metadata": {
  "kernelspec": {
   "display_name": "Python 3 (ipykernel)",
   "language": "python",
   "name": "python3"
  },
  "language_info": {
   "codemirror_mode": {
    "name": "ipython",
    "version": 3
   },
   "file_extension": ".py",
   "mimetype": "text/x-python",
   "name": "python",
   "nbconvert_exporter": "python",
   "pygments_lexer": "ipython3",
   "version": "3.10.10"
  }
 },
 "nbformat": 4,
 "nbformat_minor": 5
}
