{
 "cells": [
  {
   "cell_type": "markdown",
   "id": "adacc86e60e3216a",
   "metadata": {},
   "source": [
    "# Action Rules Example\n",
    "\n",
    "Workflow:\n",
    "1. Load Data\n",
    "2. ActionRules Miner Initialization\n",
    "3. Define Stable and Flexible Attributes\n",
    "4. Model Training\n",
    "5. Print Action Rules\n",
    "6. Recommendation"
   ]
  },
  {
   "cell_type": "markdown",
   "id": "bc3bd46ed322a836",
   "metadata": {},
   "source": [
    "### Load Data"
   ]
  },
  {
   "cell_type": "code",
   "execution_count": 1,
   "id": "14cd2938448b07f8",
   "metadata": {},
   "outputs": [],
   "source": [
    "import pandas as pd\n",
    "data = pd.read_csv(\"data/telco.csv\", \n",
    "                   sep=\";\")"
   ]
  },
  {
   "cell_type": "markdown",
   "id": "977189f7-9c37-490c-960d-3900aab29bef",
   "metadata": {},
   "source": [
    "### ActionRules Miner Initialization"
   ]
  },
  {
   "cell_type": "code",
   "execution_count": 2,
   "id": "9ea37408-c76b-4877-876f-ec2d5ea077b5",
   "metadata": {},
   "outputs": [],
   "source": [
    "from action_rules import ActionRules\n",
    "ar = ActionRules(\n",
    "    min_stable_attributes=2,\n",
    "    min_flexible_attributes=1,\n",
    "    min_undesired_support=20,\n",
    "    min_undesired_confidence=0.7,\n",
    "    min_desired_support=20,\n",
    "    min_desired_confidence=0.7,\n",
    "    verbose=False)"
   ]
  },
  {
   "cell_type": "markdown",
   "id": "335f0922-636c-4172-81ce-7bd58f80681e",
   "metadata": {},
   "source": [
    "### Define Stable and Flexible Attributes"
   ]
  },
  {
   "cell_type": "code",
   "execution_count": 3,
   "id": "2ee042ba-50d3-4b37-ae6d-68b739bd4e5a",
   "metadata": {},
   "outputs": [],
   "source": [
    "stable_attributes=[\"gender\",\n",
    "                   \"SeniorCitizen\",\n",
    "                   \"Partner\"]\n",
    "flexible_attributes=[\"PhoneService\", \n",
    "                     \"InternetService\", \n",
    "                     \"OnlineSecurity\", \n",
    "                     \"DeviceProtection\", \n",
    "                     \"TechSupport\",\n",
    "                     \"StreamingTV\"]"
   ]
  },
  {
   "cell_type": "markdown",
   "id": "7d175ff277ece815",
   "metadata": {},
   "source": [
    "### Model Training"
   ]
  },
  {
   "cell_type": "code",
   "execution_count": 4,
   "id": "2947b116-81fb-4c57-9e04-bbfcc25e36cf",
   "metadata": {},
   "outputs": [],
   "source": [
    "ar.fit(\n",
    "    data=data,           \n",
    "    stable_attributes=stable_attributes,\n",
    "    flexible_attributes=flexible_attributes,\n",
    "    target='Churn',\n",
    "    target_undesired_state='Yes',\n",
    "    target_desired_state='No',\n",
    "    use_sparse_matrix=False,\n",
    "    use_gpu=False)"
   ]
  },
  {
   "cell_type": "markdown",
   "id": "4c9869f13d17a6a3",
   "metadata": {},
   "source": [
    "### Print Action Rules"
   ]
  },
  {
   "cell_type": "code",
   "execution_count": 5,
   "id": "9b161fde66cd0e3",
   "metadata": {},
   "outputs": [
    {
     "name": "stdout",
     "output_type": "stream",
     "text": [
      "[(gender: Female) ∧ (SeniorCitizen: 1) ∧ (InternetService*: Fiber optic) ∧ (OnlineSecurity: No → Yes) ∧ (DeviceProtection: No → Yes) ∧ (StreamingTV: No → Yes)] ⇒ [Churn: Yes → No], support of undesired part: 73, confidence of undesired part: 0.73, support of desired part: 29, confidence of desired part: 0.8285714285714286, uplift: 0.007930873613111296\n",
      "[(gender: Female) ∧ (SeniorCitizen: 1) ∧ (PhoneService*: Yes) ∧ (InternetService*: Fiber optic) ∧ (OnlineSecurity: No → Yes) ∧ (DeviceProtection: No → Yes) ∧ (StreamingTV: No → Yes)] ⇒ [Churn: Yes → No], support of undesired part: 73, confidence of undesired part: 0.73, support of desired part: 29, confidence of desired part: 0.8285714285714286, uplift: 0.007930873613111296\n"
     ]
    }
   ],
   "source": [
    "r = ar.get_rules().get_ar_notation()\n",
    "for action_rule in r:\n",
    "    print(action_rule)"
   ]
  },
  {
   "cell_type": "code",
   "execution_count": 6,
   "id": "995f3d06d33f705c",
   "metadata": {},
   "outputs": [
    {
     "name": "stdout",
     "output_type": "stream",
     "text": [
      "If attribute 'gender' is 'Female', attribute 'SeniorCitizen' is '1', attribute (flexible is used as stable) 'InternetService' is 'Fiber optic', attribute 'OnlineSecurity' value 'No' is changed to 'Yes', attribute 'DeviceProtection' value 'No' is changed to 'Yes', attribute 'StreamingTV' value 'No' is changed to 'Yes', then 'Churn' value 'Yes' is changed to 'No with uplift: 0.007930873613111296, support of undesired part: 73, confidence of undesired part: 0.73, support of desired part: 29, confidence of desired part: 0.8285714285714286.\n",
      "If attribute 'gender' is 'Female', attribute 'SeniorCitizen' is '1', attribute (flexible is used as stable) 'PhoneService' is 'Yes', attribute (flexible is used as stable) 'InternetService' is 'Fiber optic', attribute 'OnlineSecurity' value 'No' is changed to 'Yes', attribute 'DeviceProtection' value 'No' is changed to 'Yes', attribute 'StreamingTV' value 'No' is changed to 'Yes', then 'Churn' value 'Yes' is changed to 'No with uplift: 0.007930873613111296, support of undesired part: 73, confidence of undesired part: 0.73, support of desired part: 29, confidence of desired part: 0.8285714285714286.\n"
     ]
    }
   ],
   "source": [
    "r2 = ar.get_rules().get_pretty_ar_notation()\n",
    "for action_rule in r2:\n",
    "    print(action_rule)"
   ]
  },
  {
   "cell_type": "markdown",
   "id": "a26dc82e-03fc-43ed-9f2e-2cb36b1d71f6",
   "metadata": {},
   "source": [
    "### Recommendation (Predict)"
   ]
  },
  {
   "cell_type": "code",
   "execution_count": 7,
   "id": "b8f42861-3df3-4e23-a295-c70780226b36",
   "metadata": {},
   "outputs": [
    {
     "data": {
      "text/html": [
       "<div>\n",
       "<style scoped>\n",
       "    .dataframe tbody tr th:only-of-type {\n",
       "        vertical-align: middle;\n",
       "    }\n",
       "\n",
       "    .dataframe tbody tr th {\n",
       "        vertical-align: top;\n",
       "    }\n",
       "\n",
       "    .dataframe thead th {\n",
       "        text-align: right;\n",
       "    }\n",
       "</style>\n",
       "<table border=\"1\" class=\"dataframe\">\n",
       "  <thead>\n",
       "    <tr style=\"text-align: right;\">\n",
       "      <th></th>\n",
       "      <th>gender</th>\n",
       "      <th>SeniorCitizen</th>\n",
       "      <th>InternetService</th>\n",
       "      <th>OnlineSecurity</th>\n",
       "      <th>DeviceProtection</th>\n",
       "      <th>StreamingTV</th>\n",
       "      <th>DeviceProtection (Recommended)</th>\n",
       "      <th>OnlineSecurity (Recommended)</th>\n",
       "      <th>StreamingTV (Recommended)</th>\n",
       "      <th>ActionRules_RuleIndex</th>\n",
       "      <th>ActionRules_UndesiredSupport</th>\n",
       "      <th>ActionRules_DesiredSupport</th>\n",
       "      <th>ActionRules_UndesiredConfidence</th>\n",
       "      <th>ActionRules_DesiredConfidence</th>\n",
       "      <th>ActionRules_Uplift</th>\n",
       "    </tr>\n",
       "  </thead>\n",
       "  <tbody>\n",
       "    <tr>\n",
       "      <th>0</th>\n",
       "      <td>Female</td>\n",
       "      <td>1</td>\n",
       "      <td>Fiber optic</td>\n",
       "      <td>No</td>\n",
       "      <td>No</td>\n",
       "      <td>No</td>\n",
       "      <td>Yes</td>\n",
       "      <td>Yes</td>\n",
       "      <td>Yes</td>\n",
       "      <td>0</td>\n",
       "      <td>73</td>\n",
       "      <td>29</td>\n",
       "      <td>0.73</td>\n",
       "      <td>0.828571</td>\n",
       "      <td>0.007931</td>\n",
       "    </tr>\n",
       "  </tbody>\n",
       "</table>\n",
       "</div>"
      ],
      "text/plain": [
       "   gender SeniorCitizen InternetService OnlineSecurity DeviceProtection  \\\n",
       "0  Female             1     Fiber optic             No               No   \n",
       "\n",
       "  StreamingTV DeviceProtection (Recommended) OnlineSecurity (Recommended)  \\\n",
       "0          No                            Yes                          Yes   \n",
       "\n",
       "  StreamingTV (Recommended)  ActionRules_RuleIndex  \\\n",
       "0                       Yes                      0   \n",
       "\n",
       "   ActionRules_UndesiredSupport  ActionRules_DesiredSupport  \\\n",
       "0                            73                          29   \n",
       "\n",
       "   ActionRules_UndesiredConfidence  ActionRules_DesiredConfidence  \\\n",
       "0                             0.73                       0.828571   \n",
       "\n",
       "   ActionRules_Uplift  \n",
       "0            0.007931  "
      ]
     },
     "execution_count": 7,
     "metadata": {},
     "output_type": "execute_result"
    }
   ],
   "source": [
    "new = {'gender': 'Female',\n",
    "       'SeniorCitizen': '1',\n",
    "       'InternetService': 'Fiber optic',\n",
    "       'OnlineSecurity': 'No',\n",
    "       'DeviceProtection': 'No',\n",
    "       'StreamingTV': 'No'}\n",
    "new_occurance = pd.Series(new)\n",
    "ar.predict(new_occurance)"
   ]
  }
 ],
 "metadata": {
  "kernelspec": {
   "display_name": "Python 3 (ipykernel)",
   "language": "python",
   "name": "python3"
  },
  "language_info": {
   "codemirror_mode": {
    "name": "ipython",
    "version": 3
   },
   "file_extension": ".py",
   "mimetype": "text/x-python",
   "name": "python",
   "nbconvert_exporter": "python",
   "pygments_lexer": "ipython3",
   "version": "3.10.10"
  }
 },
 "nbformat": 4,
 "nbformat_minor": 5
}
