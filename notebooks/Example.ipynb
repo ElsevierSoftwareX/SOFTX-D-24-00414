{
 "cells": [
  {
   "cell_type": "markdown",
   "id": "adacc86e60e3216a",
   "metadata": {},
   "source": [
    "# Action Rules Example"
   ]
  },
  {
   "cell_type": "markdown",
   "id": "48fddbaddd90bf29",
   "metadata": {},
   "source": [
    "### Import Module"
   ]
  },
  {
   "cell_type": "code",
   "execution_count": 1,
   "id": "a57944de-7a93-4932-88c1-a000f27d8005",
   "metadata": {
    "jupyter": {
     "is_executing": true
    }
   },
   "outputs": [],
   "source": [
    "from action_rules import ActionRules"
   ]
  },
  {
   "cell_type": "markdown",
   "id": "bc3bd46ed322a836",
   "metadata": {},
   "source": [
    "### Import Data"
   ]
  },
  {
   "cell_type": "code",
   "execution_count": 2,
   "id": "14cd2938448b07f8",
   "metadata": {},
   "outputs": [],
   "source": [
    "import pandas as pd\n",
    "# Data\n",
    "transactions = {'Sex': ['M', 'F', 'M', 'M', 'F', 'M', 'F'], \n",
    "                'Age': ['Y', 'Y', 'O', 'Y', 'Y', 'O', 'Y'],\n",
    "                'Class': ['1', '1', '2', '2', '1', '1', '2'],\n",
    "                'Embarked': ['S', 'C', 'S', 'C', 'S', 'C', 'C'],\n",
    "                'Survived': ['1', '1', '0', '0', '1', '1', '0'],\n",
    "               }\n",
    "data = pd.DataFrame.from_dict(transactions)"
   ]
  },
  {
   "cell_type": "markdown",
   "id": "6d5597e733ed9fdc",
   "metadata": {},
   "source": [
    "### Initialize ActionRules Miner with Parameters"
   ]
  },
  {
   "cell_type": "code",
   "execution_count": 3,
   "id": "5ac76b85640676d8",
   "metadata": {},
   "outputs": [],
   "source": [
    "# Parameters\n",
    "stable_attributes = ['Age', 'Sex']\n",
    "flexible_attributes = ['Embarked', 'Class']\n",
    "target = 'Survived'\n",
    "min_stable_attributes = 2\n",
    "min_flexible_attributes = 1 #min 1\n",
    "min_undesired_support = 1\n",
    "min_undesired_confidence = 0.5 #min 0.5\n",
    "min_desired_support = 1\n",
    "min_desired_confidence = 0.5 #min 0.5\n",
    "undesired_state = '0'\n",
    "desired_state = '1'\n",
    "# Action Rules Mining\n",
    "action_rules = ActionRules(\n",
    "    min_stable_attributes=min_stable_attributes,\n",
    "    min_flexible_attributes=min_flexible_attributes,\n",
    "    min_undesired_support=min_undesired_support,\n",
    "    min_undesired_confidence=min_undesired_confidence,\n",
    "    min_desired_support=min_desired_support,\n",
    "    min_desired_confidence=min_desired_confidence,\n",
    "    verbose=True\n",
    ")"
   ]
  },
  {
   "cell_type": "markdown",
   "id": "7d175ff277ece815",
   "metadata": {},
   "source": [
    "### Train the Model"
   ]
  },
  {
   "cell_type": "markdown",
   "id": "72263900-4f25-4405-9bf7-3cf1401c8568",
   "metadata": {},
   "source": [
    "Use GPU acceleration"
   ]
  },
  {
   "cell_type": "code",
   "execution_count": 4,
   "id": "95705212-2dd5-4e86-9d74-7004e71b3d96",
   "metadata": {},
   "outputs": [
    {
     "name": "stdout",
     "output_type": "stream",
     "text": [
      "Fri Jul 19 11:43:49 2024       \n",
      "+---------------------------------------------------------------------------------------+\n",
      "| NVIDIA-SMI 535.183.01             Driver Version: 535.183.01   CUDA Version: 12.2     |\n",
      "|-----------------------------------------+----------------------+----------------------+\n",
      "| GPU  Name                 Persistence-M | Bus-Id        Disp.A | Volatile Uncorr. ECC |\n",
      "| Fan  Temp   Perf          Pwr:Usage/Cap |         Memory-Usage | GPU-Util  Compute M. |\n",
      "|                                         |                      |               MIG M. |\n",
      "|=========================================+======================+======================|\n",
      "|   0  NVIDIA L40S                    Off | 00000000:03:00.0 Off |                    0 |\n",
      "| N/A   48C    P0              82W / 350W |    454MiB / 46068MiB |      0%      Default |\n",
      "|                                         |                      |                  N/A |\n",
      "+-----------------------------------------+----------------------+----------------------+\n",
      "                                                                                         \n",
      "+---------------------------------------------------------------------------------------+\n",
      "| Processes:                                                                            |\n",
      "|  GPU   GI   CI        PID   Type   Process name                            GPU Memory |\n",
      "|        ID   ID                                                             Usage      |\n",
      "|=======================================================================================|\n",
      "|    0   N/A  N/A      2316      C   /opt/tljh/user/bin/python                   448MiB |\n",
      "+---------------------------------------------------------------------------------------+\n"
     ]
    }
   ],
   "source": [
    "! nvidia-smi"
   ]
  },
  {
   "cell_type": "raw",
   "id": "216a5388-bd86-4b30-a0f4-ece95f082fee",
   "metadata": {},
   "source": [
    "! nvcc --version"
   ]
  },
  {
   "cell_type": "raw",
   "id": "a2e2fd2b-c91d-46b8-b193-1d5627525d2d",
   "metadata": {},
   "source": [
    "from numba import cuda\n",
    "cuda.detect()"
   ]
  },
  {
   "cell_type": "code",
   "execution_count": 5,
   "id": "2947b116-81fb-4c57-9e04-bbfcc25e36cf",
   "metadata": {},
   "outputs": [
    {
     "name": "stdout",
     "output_type": "stream",
     "text": [
      "Maximum number of nodes to check for support:\n",
      "_____________________________________________\n",
      "80\n",
      "\n",
      "SUPPORT for: (0,)\n",
      "_________________________________________________\n",
      "- extended by stable attribute\n",
      "undesired state support: 1\n",
      "desired state support: 1\n",
      "\n",
      "SUPPORT for: (1,)\n",
      "_________________________________________________\n",
      "- extended by stable attribute\n",
      "undesired state support: 2\n",
      "desired state support: 3\n",
      "\n",
      "SUPPORT for: (0, 2)\n",
      "_________________________________________________\n",
      "- extended by stable attribute\n",
      "undesired state support: 0\n",
      "desired state support: 0\n",
      "\n",
      "SUPPORT for: (0, 3)\n",
      "_________________________________________________\n",
      "- extended by stable attribute\n",
      "undesired state support: 1\n",
      "desired state support: 1\n",
      "\n",
      "SUPPORT for: (1, 2)\n",
      "_________________________________________________\n",
      "- extended by stable attribute\n",
      "undesired state support: 1\n",
      "desired state support: 2\n",
      "\n",
      "SUPPORT for: (1, 3)\n",
      "_________________________________________________\n",
      "- extended by stable attribute\n",
      "undesired state support: 1\n",
      "desired state support: 1\n",
      "\n",
      "SUPPORT for: (0, 3, 4)\n",
      "_________________________________________________\n",
      "- extended by flexible attribute\n",
      "undesired state support: 0\n",
      "desired state support: 1\n",
      "\n",
      "SUPPORT for: (0, 3, 5)\n",
      "_________________________________________________\n",
      "- extended by flexible attribute\n",
      "undesired state support: 1\n",
      "desired state support: 0\n",
      "\n",
      "SUPPORT for: (0, 3, 6)\n",
      "_________________________________________________\n",
      "- extended by flexible attribute\n",
      "undesired state support: 0\n",
      "desired state support: 1\n",
      "\n",
      "SUPPORT for: (0, 3, 7)\n",
      "_________________________________________________\n",
      "- extended by flexible attribute\n",
      "undesired state support: 1\n",
      "desired state support: 0\n",
      "\n",
      "SUPPORT for: (1, 2, 4)\n",
      "_________________________________________________\n",
      "- extended by flexible attribute\n",
      "undesired state support: 1\n",
      "desired state support: 1\n",
      "\n",
      "SUPPORT for: (1, 2, 5)\n",
      "_________________________________________________\n",
      "- extended by flexible attribute\n",
      "undesired state support: 0\n",
      "desired state support: 1\n",
      "\n",
      "SUPPORT for: (1, 2, 6)\n",
      "_________________________________________________\n",
      "- extended by flexible attribute\n",
      "undesired state support: 0\n",
      "desired state support: 2\n",
      "\n",
      "SUPPORT for: (1, 2, 7)\n",
      "_________________________________________________\n",
      "- extended by flexible attribute\n",
      "undesired state support: 1\n",
      "desired state support: 0\n",
      "\n",
      "SUPPORT for: (1, 3, 4)\n",
      "_________________________________________________\n",
      "- extended by flexible attribute\n",
      "undesired state support: 1\n",
      "desired state support: 0\n",
      "\n",
      "SUPPORT for: (1, 3, 5)\n",
      "_________________________________________________\n",
      "- extended by flexible attribute\n",
      "undesired state support: 0\n",
      "desired state support: 1\n",
      "\n",
      "SUPPORT for: (1, 3, 6)\n",
      "_________________________________________________\n",
      "- extended by flexible attribute\n",
      "undesired state support: 0\n",
      "desired state support: 1\n",
      "\n",
      "SUPPORT for: (1, 3, 7)\n",
      "_________________________________________________\n",
      "- extended by flexible attribute\n",
      "undesired state support: 1\n",
      "desired state support: 0\n",
      "\n",
      "SUPPORT for: (0, 3, 4, 6)\n",
      "_________________________________________________\n",
      "- extended by flexible attribute\n",
      "undesired state support: 0\n",
      "desired state support: 1\n",
      "\n",
      "SUPPORT for: (0, 3, 4, 7)\n",
      "_________________________________________________\n",
      "- extended by flexible attribute\n",
      "undesired state support: 0\n",
      "desired state support: 0\n",
      "\n",
      "SUPPORT for: (0, 3, 5, 6)\n",
      "_________________________________________________\n",
      "- extended by flexible attribute\n",
      "undesired state support: 0\n",
      "desired state support: 0\n",
      "\n",
      "SUPPORT for: (0, 3, 5, 7)\n",
      "_________________________________________________\n",
      "- extended by flexible attribute\n",
      "undesired state support: 1\n",
      "desired state support: 0\n",
      "\n",
      "SUPPORT for: (1, 2, 4, 6)\n",
      "_________________________________________________\n",
      "- extended by flexible attribute\n",
      "undesired state support: 0\n",
      "desired state support: 1\n",
      "\n",
      "SUPPORT for: (1, 2, 4, 7)\n",
      "_________________________________________________\n",
      "- extended by flexible attribute\n",
      "undesired state support: 1\n",
      "desired state support: 0\n",
      "\n",
      "SUPPORT for: (1, 2, 5, 6)\n",
      "_________________________________________________\n",
      "- extended by flexible attribute\n",
      "undesired state support: 0\n",
      "desired state support: 1\n",
      "\n",
      "SUPPORT for: (1, 2, 5, 7)\n",
      "_________________________________________________\n",
      "- extended by flexible attribute\n",
      "undesired state support: 0\n",
      "desired state support: 0\n",
      "\n",
      "SUPPORT for: (1, 3, 4, 6)\n",
      "_________________________________________________\n",
      "- extended by flexible attribute\n",
      "undesired state support: 0\n",
      "desired state support: 0\n",
      "\n",
      "SUPPORT for: (1, 3, 4, 7)\n",
      "_________________________________________________\n",
      "- extended by flexible attribute\n",
      "undesired state support: 1\n",
      "desired state support: 0\n",
      "\n",
      "SUPPORT for: (1, 3, 5, 6)\n",
      "_________________________________________________\n",
      "- extended by flexible attribute\n",
      "undesired state support: 0\n",
      "desired state support: 1\n",
      "\n",
      "SUPPORT for: (1, 3, 5, 7)\n",
      "_________________________________________________\n",
      "- extended by flexible attribute\n",
      "undesired state support: 0\n",
      "desired state support: 0\n",
      "\n"
     ]
    }
   ],
   "source": [
    "action_rules.fit(\n",
    "    data=data,\n",
    "    stable_attributes=stable_attributes,\n",
    "    flexible_attributes=flexible_attributes,\n",
    "    target=target,\n",
    "    target_undesired_state=undesired_state,\n",
    "    target_desired_state=desired_state,\n",
    "    use_sparse_matrix=True,\n",
    "    use_gpu=False,\n",
    ")"
   ]
  },
  {
   "cell_type": "markdown",
   "id": "4c9869f13d17a6a3",
   "metadata": {},
   "source": [
    "### Print Action Rules"
   ]
  },
  {
   "cell_type": "code",
   "execution_count": 6,
   "id": "a9551f74-abd4-460b-ad55-2bc10d2c095b",
   "metadata": {},
   "outputs": [
    {
     "data": {
      "text/plain": [
       "11"
      ]
     },
     "execution_count": 6,
     "metadata": {},
     "output_type": "execute_result"
    }
   ],
   "source": [
    "len(action_rules.get_rules().get_ar_notation())"
   ]
  },
  {
   "cell_type": "code",
   "execution_count": 7,
   "id": "9b161fde66cd0e3",
   "metadata": {},
   "outputs": [
    {
     "name": "stdout",
     "output_type": "stream",
     "text": [
      "[(Age: O) ∧ (Sex: M) ∧ (Embarked: S → C)] ⇒ [Survived: 0 → 1], support of undesired part: 1, confidence of undesired part: 1.0, support of desired part: 1, confidence of desired part: 1.0, uplift: 1.0\n",
      "[(Age: O) ∧ (Sex: M) ∧ (Class: 2 → 1)] ⇒ [Survived: 0 → 1], support of undesired part: 1, confidence of undesired part: 1.0, support of desired part: 1, confidence of desired part: 1.0, uplift: 1.0\n",
      "[(Age: Y) ∧ (Sex: F) ∧ (Embarked*: C)] ⇒ [Survived: 0 → 1], support of undesired part: 1, confidence of undesired part: 0.5, support of desired part: 1, confidence of desired part: 0.5, uplift: 0.0\n",
      "[(Age: Y) ∧ (Sex: F) ∧ (Embarked: C → S)] ⇒ [Survived: 0 → 1], support of undesired part: 1, confidence of undesired part: 0.5, support of desired part: 1, confidence of desired part: 1.0, uplift: 1.0\n",
      "[(Age: Y) ∧ (Sex: F) ∧ (Class: 2 → 1)] ⇒ [Survived: 0 → 1], support of undesired part: 1, confidence of undesired part: 1.0, support of desired part: 2, confidence of desired part: 1.0, uplift: 1.0\n",
      "[(Age: Y) ∧ (Sex: M) ∧ (Embarked: C → S)] ⇒ [Survived: 0 → 1], support of undesired part: 1, confidence of undesired part: 1.0, support of desired part: 1, confidence of desired part: 1.0, uplift: 1.0\n",
      "[(Age: Y) ∧ (Sex: M) ∧ (Class: 2 → 1)] ⇒ [Survived: 0 → 1], support of undesired part: 1, confidence of undesired part: 1.0, support of desired part: 1, confidence of desired part: 1.0, uplift: 1.0\n",
      "[(Age: O) ∧ (Sex: M) ∧ (Embarked: S → C) ∧ (Class: 2 → 1)] ⇒ [Survived: 0 → 1], support of undesired part: 1, confidence of undesired part: 1.0, support of desired part: 1, confidence of desired part: 1.0, uplift: 1.0\n",
      "[(Age: Y) ∧ (Sex: F) ∧ (Embarked*: C) ∧ (Class: 2 → 1)] ⇒ [Survived: 0 → 1], support of undesired part: 1, confidence of undesired part: 1.0, support of desired part: 1, confidence of desired part: 1.0, uplift: 1.0\n",
      "[(Age: Y) ∧ (Sex: F) ∧ (Embarked: C → S) ∧ (Class: 2 → 1)] ⇒ [Survived: 0 → 1], support of undesired part: 1, confidence of undesired part: 1.0, support of desired part: 1, confidence of desired part: 1.0, uplift: 1.0\n",
      "[(Age: Y) ∧ (Sex: M) ∧ (Embarked: C → S) ∧ (Class: 2 → 1)] ⇒ [Survived: 0 → 1], support of undesired part: 1, confidence of undesired part: 1.0, support of desired part: 1, confidence of desired part: 1.0, uplift: 1.0\n"
     ]
    }
   ],
   "source": [
    "# Print rules\n",
    "for action_rule in action_rules.get_rules().get_ar_notation():\n",
    "    print(action_rule)"
   ]
  },
  {
   "cell_type": "code",
   "execution_count": 8,
   "id": "995f3d06d33f705c",
   "metadata": {},
   "outputs": [
    {
     "name": "stdout",
     "output_type": "stream",
     "text": [
      "If attribute 'Age' is 'O', attribute 'Sex' is 'M', attribute 'Embarked' value 'S' is changed to 'C', then 'Survived' value '0' is changed to '1 with uplift: 1.0.\n",
      "If attribute 'Age' is 'O', attribute 'Sex' is 'M', attribute 'Class' value '2' is changed to '1', then 'Survived' value '0' is changed to '1 with uplift: 1.0.\n",
      "If attribute 'Age' is 'Y', attribute 'Sex' is 'F', attribute (flexible is used as stable) 'Embarked' is 'C', then 'Survived' value '0' is changed to '1 with uplift: 0.0.\n",
      "If attribute 'Age' is 'Y', attribute 'Sex' is 'F', attribute 'Embarked' value 'C' is changed to 'S', then 'Survived' value '0' is changed to '1 with uplift: 1.0.\n",
      "If attribute 'Age' is 'Y', attribute 'Sex' is 'F', attribute 'Class' value '2' is changed to '1', then 'Survived' value '0' is changed to '1 with uplift: 1.0.\n",
      "If attribute 'Age' is 'Y', attribute 'Sex' is 'M', attribute 'Embarked' value 'C' is changed to 'S', then 'Survived' value '0' is changed to '1 with uplift: 1.0.\n",
      "If attribute 'Age' is 'Y', attribute 'Sex' is 'M', attribute 'Class' value '2' is changed to '1', then 'Survived' value '0' is changed to '1 with uplift: 1.0.\n",
      "If attribute 'Age' is 'O', attribute 'Sex' is 'M', attribute 'Embarked' value 'S' is changed to 'C', attribute 'Class' value '2' is changed to '1', then 'Survived' value '0' is changed to '1 with uplift: 1.0.\n",
      "If attribute 'Age' is 'Y', attribute 'Sex' is 'F', attribute (flexible is used as stable) 'Embarked' is 'C', attribute 'Class' value '2' is changed to '1', then 'Survived' value '0' is changed to '1 with uplift: 1.0.\n",
      "If attribute 'Age' is 'Y', attribute 'Sex' is 'F', attribute 'Embarked' value 'C' is changed to 'S', attribute 'Class' value '2' is changed to '1', then 'Survived' value '0' is changed to '1 with uplift: 1.0.\n",
      "If attribute 'Age' is 'Y', attribute 'Sex' is 'M', attribute 'Embarked' value 'C' is changed to 'S', attribute 'Class' value '2' is changed to '1', then 'Survived' value '0' is changed to '1 with uplift: 1.0.\n"
     ]
    }
   ],
   "source": [
    "for action_rule in action_rules.get_rules().get_pretty_ar_notation():\n",
    "    print(action_rule)"
   ]
  },
  {
   "cell_type": "code",
   "execution_count": 9,
   "id": "a49fcab4f86fadf9",
   "metadata": {},
   "outputs": [
    {
     "name": "stdout",
     "output_type": "stream",
     "text": [
      "[{\"stable\": [{\"attribute\": \"Age\", \"value\": \"O\"}, {\"attribute\": \"Sex\", \"value\": \"M\"}], \"flexible\": [{\"attribute\": \"Embarked\", \"undesired\": \"S\", \"desired\": \"C\"}], \"target\": {\"attribute\": \"Survived\", \"undesired\": \"0\", \"desired\": \"1\"}, \"support of undesired part\": 1, \"confidence of undesired part\": 1.0, \"support of desired part\": 1, \"confidence of desired part\": 1.0, \"uplift\": 1.0}, {\"stable\": [{\"attribute\": \"Age\", \"value\": \"O\"}, {\"attribute\": \"Sex\", \"value\": \"M\"}], \"flexible\": [{\"attribute\": \"Class\", \"undesired\": \"2\", \"desired\": \"1\"}], \"target\": {\"attribute\": \"Survived\", \"undesired\": \"0\", \"desired\": \"1\"}, \"support of undesired part\": 1, \"confidence of undesired part\": 1.0, \"support of desired part\": 1, \"confidence of desired part\": 1.0, \"uplift\": 1.0}, {\"stable\": [{\"attribute\": \"Age\", \"value\": \"Y\"}, {\"attribute\": \"Sex\", \"value\": \"F\"}, {\"attribute\": \"Embarked\", \"value\": \"C\", \"flexible_as_stable\": true}], \"flexible\": [], \"target\": {\"attribute\": \"Survived\", \"undesired\": \"0\", \"desired\": \"1\"}, \"support of undesired part\": 1, \"confidence of undesired part\": 0.5, \"support of desired part\": 1, \"confidence of desired part\": 0.5, \"uplift\": 0.0}, {\"stable\": [{\"attribute\": \"Age\", \"value\": \"Y\"}, {\"attribute\": \"Sex\", \"value\": \"F\"}], \"flexible\": [{\"attribute\": \"Embarked\", \"undesired\": \"C\", \"desired\": \"S\"}], \"target\": {\"attribute\": \"Survived\", \"undesired\": \"0\", \"desired\": \"1\"}, \"support of undesired part\": 1, \"confidence of undesired part\": 0.5, \"support of desired part\": 1, \"confidence of desired part\": 1.0, \"uplift\": 1.0}, {\"stable\": [{\"attribute\": \"Age\", \"value\": \"Y\"}, {\"attribute\": \"Sex\", \"value\": \"F\"}], \"flexible\": [{\"attribute\": \"Class\", \"undesired\": \"2\", \"desired\": \"1\"}], \"target\": {\"attribute\": \"Survived\", \"undesired\": \"0\", \"desired\": \"1\"}, \"support of undesired part\": 1, \"confidence of undesired part\": 1.0, \"support of desired part\": 2, \"confidence of desired part\": 1.0, \"uplift\": 1.0}, {\"stable\": [{\"attribute\": \"Age\", \"value\": \"Y\"}, {\"attribute\": \"Sex\", \"value\": \"M\"}], \"flexible\": [{\"attribute\": \"Embarked\", \"undesired\": \"C\", \"desired\": \"S\"}], \"target\": {\"attribute\": \"Survived\", \"undesired\": \"0\", \"desired\": \"1\"}, \"support of undesired part\": 1, \"confidence of undesired part\": 1.0, \"support of desired part\": 1, \"confidence of desired part\": 1.0, \"uplift\": 1.0}, {\"stable\": [{\"attribute\": \"Age\", \"value\": \"Y\"}, {\"attribute\": \"Sex\", \"value\": \"M\"}], \"flexible\": [{\"attribute\": \"Class\", \"undesired\": \"2\", \"desired\": \"1\"}], \"target\": {\"attribute\": \"Survived\", \"undesired\": \"0\", \"desired\": \"1\"}, \"support of undesired part\": 1, \"confidence of undesired part\": 1.0, \"support of desired part\": 1, \"confidence of desired part\": 1.0, \"uplift\": 1.0}, {\"stable\": [{\"attribute\": \"Age\", \"value\": \"O\"}, {\"attribute\": \"Sex\", \"value\": \"M\"}], \"flexible\": [{\"attribute\": \"Embarked\", \"undesired\": \"S\", \"desired\": \"C\"}, {\"attribute\": \"Class\", \"undesired\": \"2\", \"desired\": \"1\"}], \"target\": {\"attribute\": \"Survived\", \"undesired\": \"0\", \"desired\": \"1\"}, \"support of undesired part\": 1, \"confidence of undesired part\": 1.0, \"support of desired part\": 1, \"confidence of desired part\": 1.0, \"uplift\": 1.0}, {\"stable\": [{\"attribute\": \"Age\", \"value\": \"Y\"}, {\"attribute\": \"Sex\", \"value\": \"F\"}, {\"attribute\": \"Embarked\", \"value\": \"C\", \"flexible_as_stable\": true}], \"flexible\": [{\"attribute\": \"Class\", \"undesired\": \"2\", \"desired\": \"1\"}], \"target\": {\"attribute\": \"Survived\", \"undesired\": \"0\", \"desired\": \"1\"}, \"support of undesired part\": 1, \"confidence of undesired part\": 1.0, \"support of desired part\": 1, \"confidence of desired part\": 1.0, \"uplift\": 1.0}, {\"stable\": [{\"attribute\": \"Age\", \"value\": \"Y\"}, {\"attribute\": \"Sex\", \"value\": \"F\"}], \"flexible\": [{\"attribute\": \"Embarked\", \"undesired\": \"C\", \"desired\": \"S\"}, {\"attribute\": \"Class\", \"undesired\": \"2\", \"desired\": \"1\"}], \"target\": {\"attribute\": \"Survived\", \"undesired\": \"0\", \"desired\": \"1\"}, \"support of undesired part\": 1, \"confidence of undesired part\": 1.0, \"support of desired part\": 1, \"confidence of desired part\": 1.0, \"uplift\": 1.0}, {\"stable\": [{\"attribute\": \"Age\", \"value\": \"Y\"}, {\"attribute\": \"Sex\", \"value\": \"M\"}], \"flexible\": [{\"attribute\": \"Embarked\", \"undesired\": \"C\", \"desired\": \"S\"}, {\"attribute\": \"Class\", \"undesired\": \"2\", \"desired\": \"1\"}], \"target\": {\"attribute\": \"Survived\", \"undesired\": \"0\", \"desired\": \"1\"}, \"support of undesired part\": 1, \"confidence of undesired part\": 1.0, \"support of desired part\": 1, \"confidence of desired part\": 1.0, \"uplift\": 1.0}]\n"
     ]
    }
   ],
   "source": [
    "export = action_rules.get_rules().get_export_notation()\n",
    "print(export)"
   ]
  },
  {
   "cell_type": "markdown",
   "id": "c87bb1ae66d087de",
   "metadata": {},
   "source": [
    "## CLI"
   ]
  },
  {
   "cell_type": "code",
   "execution_count": 10,
   "id": "ff5d912a-e23f-4905-ad80-d143e58643ba",
   "metadata": {},
   "outputs": [],
   "source": [
    "data.to_csv('data.csv')"
   ]
  },
  {
   "cell_type": "markdown",
   "id": "a1037b65a0b2de6b",
   "metadata": {},
   "source": [
    "### Help"
   ]
  },
  {
   "cell_type": "code",
   "execution_count": 11,
   "id": "65e8f52d-bef2-4eb2-8c60-492d396433c2",
   "metadata": {},
   "outputs": [
    {
     "name": "stdout",
     "output_type": "stream",
     "text": [
      "/bin/bash: line 1: action-rules: command not found\n"
     ]
    }
   ],
   "source": [
    "! action-rules --help"
   ]
  },
  {
   "cell_type": "markdown",
   "id": "8b5bdefd-fef8-49f5-bfde-1101e4bc4fec",
   "metadata": {},
   "source": [
    "### Command"
   ]
  },
  {
   "cell_type": "code",
   "execution_count": 12,
   "id": "02025696-79e9-419c-a6f3-44f484383656",
   "metadata": {},
   "outputs": [
    {
     "name": "stdout",
     "output_type": "stream",
     "text": [
      "/bin/bash: line 1: action-rules: command not found\n"
     ]
    }
   ],
   "source": [
    "! action-rules \\\n",
    "--min_stable_attributes 2 \\\n",
    "--min_flexible_attributes 1 \\\n",
    "--min_undesired_support 1 \\\n",
    "--min_undesired_confidence 0.5 \\\n",
    "--min_desired_support 1 \\\n",
    "--min_desired_confidence 0.5 \\\n",
    "--csv_path \"data.csv\" \\\n",
    "--stable_attributes \"Sex, Age\" \\\n",
    "--flexible_attributes \"Class, Embarked\" \\\n",
    "--target \"Survived\" \\\n",
    "--undesired_state \"0\" \\\n",
    "--desired_state \"1\" \\\n",
    "--output_json_path \"output.json\" \\\n",
    "--use_gpu 0"
   ]
  },
  {
   "cell_type": "markdown",
   "id": "bfdc1488-de57-4592-bdf6-fc572b3e61b9",
   "metadata": {},
   "source": [
    "## Import Rules"
   ]
  },
  {
   "cell_type": "code",
   "execution_count": 13,
   "id": "95146a39-b00d-42c7-baae-54582a170d3b",
   "metadata": {},
   "outputs": [
    {
     "name": "stdout",
     "output_type": "stream",
     "text": [
      "[(Age: O) ∧ (Sex: M) ∧ (Embarked: S → C)] ⇒ [Survived: 0 → 1], support of undesired part: 1, confidence of undesired part: 1.0, support of desired part: 1, confidence of desired part: 1.0, uplift: 1.0\n",
      "[(Age: O) ∧ (Sex: M) ∧ (Class: 2 → 1)] ⇒ [Survived: 0 → 1], support of undesired part: 1, confidence of undesired part: 1.0, support of desired part: 1, confidence of desired part: 1.0, uplift: 1.0\n",
      "[(Age: Y) ∧ (Sex: F) ∧ (Embarked*: C)] ⇒ [Survived: 0 → 1], support of undesired part: 1, confidence of undesired part: 0.5, support of desired part: 1, confidence of desired part: 0.5, uplift: 0.0\n",
      "[(Age: Y) ∧ (Sex: F) ∧ (Embarked: C → S)] ⇒ [Survived: 0 → 1], support of undesired part: 1, confidence of undesired part: 0.5, support of desired part: 1, confidence of desired part: 1.0, uplift: 1.0\n",
      "[(Age: Y) ∧ (Sex: F) ∧ (Class: 2 → 1)] ⇒ [Survived: 0 → 1], support of undesired part: 1, confidence of undesired part: 1.0, support of desired part: 2, confidence of desired part: 1.0, uplift: 1.0\n",
      "[(Age: Y) ∧ (Sex: M) ∧ (Embarked: C → S)] ⇒ [Survived: 0 → 1], support of undesired part: 1, confidence of undesired part: 1.0, support of desired part: 1, confidence of desired part: 1.0, uplift: 1.0\n",
      "[(Age: Y) ∧ (Sex: M) ∧ (Class: 2 → 1)] ⇒ [Survived: 0 → 1], support of undesired part: 1, confidence of undesired part: 1.0, support of desired part: 1, confidence of desired part: 1.0, uplift: 1.0\n",
      "[(Age: O) ∧ (Sex: M) ∧ (Embarked: S → C) ∧ (Class: 2 → 1)] ⇒ [Survived: 0 → 1], support of undesired part: 1, confidence of undesired part: 1.0, support of desired part: 1, confidence of desired part: 1.0, uplift: 1.0\n",
      "[(Age: Y) ∧ (Sex: F) ∧ (Embarked*: C) ∧ (Class: 2 → 1)] ⇒ [Survived: 0 → 1], support of undesired part: 1, confidence of undesired part: 1.0, support of desired part: 1, confidence of desired part: 1.0, uplift: 1.0\n",
      "[(Age: Y) ∧ (Sex: F) ∧ (Embarked: C → S) ∧ (Class: 2 → 1)] ⇒ [Survived: 0 → 1], support of undesired part: 1, confidence of undesired part: 1.0, support of desired part: 1, confidence of desired part: 1.0, uplift: 1.0\n",
      "[(Age: Y) ∧ (Sex: M) ∧ (Embarked: C → S) ∧ (Class: 2 → 1)] ⇒ [Survived: 0 → 1], support of undesired part: 1, confidence of undesired part: 1.0, support of desired part: 1, confidence of desired part: 1.0, uplift: 1.0\n"
     ]
    }
   ],
   "source": [
    "from action_rules.input import Input\n",
    "\n",
    "input_rules = Input()\n",
    "output = input_rules.import_action_rules(export)\n",
    "for action_rule in output.get_ar_notation():\n",
    "    print(action_rule)"
   ]
  }
 ],
 "metadata": {
  "kernelspec": {
   "display_name": "Python 3 (ipykernel)",
   "language": "python",
   "name": "python3"
  },
  "language_info": {
   "codemirror_mode": {
    "name": "ipython",
    "version": 3
   },
   "file_extension": ".py",
   "mimetype": "text/x-python",
   "name": "python",
   "nbconvert_exporter": "python",
   "pygments_lexer": "ipython3",
   "version": "3.10.10"
  }
 },
 "nbformat": 4,
 "nbformat_minor": 5
}
